{
  "nbformat": 4,
  "nbformat_minor": 0,
  "metadata": {
    "colab": {
      "name": "Social_Media_Data_Analysis.ipynb",
      "provenance": [],
      "collapsed_sections": [],
      "include_colab_link": true
    },
    "kernelspec": {
      "name": "python3",
      "display_name": "Python 3"
    }
  },
  "cells": [
    {
      "cell_type": "markdown",
      "metadata": {
        "id": "view-in-github",
        "colab_type": "text"
      },
      "source": [
        "<a href=\"https://colab.research.google.com/github/Nawrin14/DataThrone/blob/main/Social_Media_Data_Analysis.ipynb\" target=\"_parent\"><img src=\"https://colab.research.google.com/assets/colab-badge.svg\" alt=\"Open In Colab\"/></a>"
      ]
    },
    {
      "cell_type": "markdown",
      "metadata": {
        "id": "oxXU50ejEjQx"
      },
      "source": [
        "At first, the required libraries are loaded."
      ]
    },
    {
      "cell_type": "code",
      "metadata": {
        "id": "bRRrqW5Cl_Fq"
      },
      "source": [
        "import pandas as pd\r\n",
        "import numpy as np\r\n",
        "import matplotlib.pyplot as plt\r\n",
        "import seaborn as sns\r\n",
        "%matplotlib inline"
      ],
      "execution_count": null,
      "outputs": []
    },
    {
      "cell_type": "markdown",
      "metadata": {
        "id": "ReMq-ntpFSfE"
      },
      "source": [
        "The excel dataset is loaded using Pandas read_excel() method."
      ]
    },
    {
      "cell_type": "code",
      "metadata": {
        "id": "QqCe3YoamRH0"
      },
      "source": [
        "df = pd.read_excel(\"/content/insight_002.xlsx\")"
      ],
      "execution_count": null,
      "outputs": []
    },
    {
      "cell_type": "markdown",
      "metadata": {
        "id": "3B8NGTmSJYPw"
      },
      "source": [
        "We\r\n",
        "use\r\n",
        "the\r\n",
        " head() method\r\n",
        "to display the first 5 rows of the dataframe."
      ]
    },
    {
      "cell_type": "code",
      "metadata": {
        "colab": {
          "base_uri": "https://localhost:8080/",
          "height": 634
        },
        "id": "kxdhw-E_IS8E",
        "outputId": "0d593071-65ed-4f51-ff1c-a232e065d26a"
      },
      "source": [
        "df.head()"
      ],
      "execution_count": null,
      "outputs": [
        {
          "output_type": "execute_result",
          "data": {
            "text/html": [
              "<div>\n",
              "<style scoped>\n",
              "    .dataframe tbody tr th:only-of-type {\n",
              "        vertical-align: middle;\n",
              "    }\n",
              "\n",
              "    .dataframe tbody tr th {\n",
              "        vertical-align: top;\n",
              "    }\n",
              "\n",
              "    .dataframe thead th {\n",
              "        text-align: right;\n",
              "    }\n",
              "</style>\n",
              "<table border=\"1\" class=\"dataframe\">\n",
              "  <thead>\n",
              "    <tr style=\"text-align: right;\">\n",
              "      <th></th>\n",
              "      <th>Post ID</th>\n",
              "      <th>Post Message</th>\n",
              "      <th>Type</th>\n",
              "      <th>Countries</th>\n",
              "      <th>Languages</th>\n",
              "      <th>Posted</th>\n",
              "      <th>Audience Targeting</th>\n",
              "      <th>Lifetime Post Total Reach</th>\n",
              "      <th>Lifetime Post organic reach</th>\n",
              "      <th>Lifetime Post Paid Reach</th>\n",
              "      <th>Lifetime Post Total Impressions</th>\n",
              "      <th>Lifetime Post Organic Impressions</th>\n",
              "      <th>Lifetime Post Paid Impressions</th>\n",
              "      <th>Lifetime Engaged Users</th>\n",
              "      <th>Lifetime Matched Audience Targeting Consumers on Post</th>\n",
              "      <th>Lifetime Matched Audience Targeting Consumptions on Post</th>\n",
              "      <th>Lifetime Negative Feedback from Users</th>\n",
              "      <th>Lifetime Negative Feedback</th>\n",
              "      <th>Lifetime Post Impressions by people who have liked your Page</th>\n",
              "      <th>Lifetime Post reach by people who like your Page</th>\n",
              "      <th>Lifetime Post Paid Impressions by people who have liked your Page</th>\n",
              "      <th>Lifetime Paid reach of a post by people who like your Page</th>\n",
              "      <th>Lifetime People who have liked your Page and engaged with your post</th>\n",
              "      <th>Lifetime Organic views to 95%</th>\n",
              "      <th>Lifetime Organic views to 95%.1</th>\n",
              "      <th>Lifetime Paid views to 95%</th>\n",
              "      <th>Lifetime Paid views to 95%.1</th>\n",
              "      <th>Lifetime Organic Video Views</th>\n",
              "      <th>Lifetime Organic Video Views.1</th>\n",
              "      <th>Lifetime Paid Video Views</th>\n",
              "      <th>Lifetime Paid Video Views.1</th>\n",
              "      <th>Lifetime Average time video viewed</th>\n",
              "      <th>Lifetime Video length</th>\n",
              "    </tr>\n",
              "  </thead>\n",
              "  <tbody>\n",
              "    <tr>\n",
              "      <th>0</th>\n",
              "      <td>NaN</td>\n",
              "      <td>NaN</td>\n",
              "      <td>NaN</td>\n",
              "      <td>NaN</td>\n",
              "      <td>NaN</td>\n",
              "      <td>NaT</td>\n",
              "      <td>NaN</td>\n",
              "      <td>Lifetime: The number of people who had your Pa...</td>\n",
              "      <td>Lifetime: The number of people who had your Pa...</td>\n",
              "      <td>Lifetime: The number of people who had your Pa...</td>\n",
              "      <td>Lifetime: The number of times your Page's post...</td>\n",
              "      <td>Lifetime: The number of times your Page's post...</td>\n",
              "      <td>Lifetime: The number of times your Page's post...</td>\n",
              "      <td>Lifetime: The number of unique people who enga...</td>\n",
              "      <td>Lifetime: The number of people who matched the...</td>\n",
              "      <td>Lifetime: The number of clicks anywhere in you...</td>\n",
              "      <td>Lifetime: The number of people who have given ...</td>\n",
              "      <td>Lifetime: The number of times people have give...</td>\n",
              "      <td>Lifetime: The number of impressions of your Pa...</td>\n",
              "      <td>Lifetime: The number of people who saw your Pa...</td>\n",
              "      <td>Lifetime: The number of paid impressions of yo...</td>\n",
              "      <td>Lifetime: The number of people who like your P...</td>\n",
              "      <td>Lifetime: The number of people who have liked ...</td>\n",
              "      <td>Lifetime: Number of times your video was viewe...</td>\n",
              "      <td>Lifetime: Number of times your video was viewe...</td>\n",
              "      <td>Lifetime: Number of times your video was viewe...</td>\n",
              "      <td>Lifetime: Number of times your video was viewe...</td>\n",
              "      <td>Lifetime: Number of times your video was viewe...</td>\n",
              "      <td>Lifetime: Number of times your video was viewe...</td>\n",
              "      <td>Lifetime: Number of times your video was viewe...</td>\n",
              "      <td>Lifetime: Number of times your video was viewe...</td>\n",
              "      <td>Lifetime: Average time video viewed (Total Count)</td>\n",
              "      <td>Lifetime: Length of a video post (Total Count)</td>\n",
              "    </tr>\n",
              "    <tr>\n",
              "      <th>1</th>\n",
              "      <td>1277547548992987_1741796732568064</td>\n",
              "      <td>Congratulations to the winners of the first on...</td>\n",
              "      <td>Photo</td>\n",
              "      <td>NaN</td>\n",
              "      <td>NaN</td>\n",
              "      <td>2018-06-22 07:58:04</td>\n",
              "      <td></td>\n",
              "      <td>2</td>\n",
              "      <td>2</td>\n",
              "      <td>0</td>\n",
              "      <td>2</td>\n",
              "      <td>2</td>\n",
              "      <td>0</td>\n",
              "      <td>0</td>\n",
              "      <td>0</td>\n",
              "      <td>0</td>\n",
              "      <td>0</td>\n",
              "      <td>0</td>\n",
              "      <td>2</td>\n",
              "      <td>2</td>\n",
              "      <td>0</td>\n",
              "      <td>0</td>\n",
              "      <td>0</td>\n",
              "      <td>0</td>\n",
              "      <td>0</td>\n",
              "      <td>0</td>\n",
              "      <td>0</td>\n",
              "      <td>0</td>\n",
              "      <td>0</td>\n",
              "      <td>0</td>\n",
              "      <td>0</td>\n",
              "      <td>0</td>\n",
              "      <td>0</td>\n",
              "    </tr>\n",
              "    <tr>\n",
              "      <th>2</th>\n",
              "      <td>1277547548992987_1731769263570811</td>\n",
              "      <td>May your Eid celebrations be as charming as th...</td>\n",
              "      <td>Video</td>\n",
              "      <td>NaN</td>\n",
              "      <td>NaN</td>\n",
              "      <td>2018-06-15 13:43:23</td>\n",
              "      <td></td>\n",
              "      <td>1556</td>\n",
              "      <td>1556</td>\n",
              "      <td>0</td>\n",
              "      <td>3125</td>\n",
              "      <td>3125</td>\n",
              "      <td>0</td>\n",
              "      <td>148</td>\n",
              "      <td>98</td>\n",
              "      <td>158</td>\n",
              "      <td>0</td>\n",
              "      <td>0</td>\n",
              "      <td>2119</td>\n",
              "      <td>1001</td>\n",
              "      <td>0</td>\n",
              "      <td>0</td>\n",
              "      <td>108</td>\n",
              "      <td>72</td>\n",
              "      <td>93</td>\n",
              "      <td>0</td>\n",
              "      <td>0</td>\n",
              "      <td>389</td>\n",
              "      <td>500</td>\n",
              "      <td>0</td>\n",
              "      <td>0</td>\n",
              "      <td>5035</td>\n",
              "      <td>24355</td>\n",
              "    </tr>\n",
              "    <tr>\n",
              "      <th>3</th>\n",
              "      <td>1277547548992987_1731343926946678</td>\n",
              "      <td>Wishing everyone a very happy Eid al-Fitr. As ...</td>\n",
              "      <td>Photo</td>\n",
              "      <td>NaN</td>\n",
              "      <td>NaN</td>\n",
              "      <td>2018-06-15 06:57:45</td>\n",
              "      <td></td>\n",
              "      <td>2</td>\n",
              "      <td>2</td>\n",
              "      <td>0</td>\n",
              "      <td>2</td>\n",
              "      <td>2</td>\n",
              "      <td>0</td>\n",
              "      <td>0</td>\n",
              "      <td>0</td>\n",
              "      <td>0</td>\n",
              "      <td>0</td>\n",
              "      <td>0</td>\n",
              "      <td>2</td>\n",
              "      <td>2</td>\n",
              "      <td>0</td>\n",
              "      <td>0</td>\n",
              "      <td>0</td>\n",
              "      <td>0</td>\n",
              "      <td>0</td>\n",
              "      <td>0</td>\n",
              "      <td>0</td>\n",
              "      <td>0</td>\n",
              "      <td>0</td>\n",
              "      <td>0</td>\n",
              "      <td>0</td>\n",
              "      <td>0</td>\n",
              "      <td>0</td>\n",
              "    </tr>\n",
              "    <tr>\n",
              "      <th>4</th>\n",
              "      <td>1277547548992987_1727479250666479</td>\n",
              "      <td>What's trending this eid? 🤔</td>\n",
              "      <td>Photo</td>\n",
              "      <td>NaN</td>\n",
              "      <td>NaN</td>\n",
              "      <td>2018-06-12 11:33:50</td>\n",
              "      <td></td>\n",
              "      <td>1</td>\n",
              "      <td>1</td>\n",
              "      <td>0</td>\n",
              "      <td>1</td>\n",
              "      <td>1</td>\n",
              "      <td>0</td>\n",
              "      <td>0</td>\n",
              "      <td>0</td>\n",
              "      <td>0</td>\n",
              "      <td>0</td>\n",
              "      <td>0</td>\n",
              "      <td>1</td>\n",
              "      <td>1</td>\n",
              "      <td>0</td>\n",
              "      <td>0</td>\n",
              "      <td>0</td>\n",
              "      <td>0</td>\n",
              "      <td>0</td>\n",
              "      <td>0</td>\n",
              "      <td>0</td>\n",
              "      <td>0</td>\n",
              "      <td>0</td>\n",
              "      <td>0</td>\n",
              "      <td>0</td>\n",
              "      <td>0</td>\n",
              "      <td>0</td>\n",
              "    </tr>\n",
              "  </tbody>\n",
              "</table>\n",
              "</div>"
            ],
            "text/plain": [
              "                             Post ID  ...                           Lifetime Video length\n",
              "0                                NaN  ...  Lifetime: Length of a video post (Total Count)\n",
              "1  1277547548992987_1741796732568064  ...                                               0\n",
              "2  1277547548992987_1731769263570811  ...                                           24355\n",
              "3  1277547548992987_1731343926946678  ...                                               0\n",
              "4  1277547548992987_1727479250666479  ...                                               0\n",
              "\n",
              "[5 rows x 33 columns]"
            ]
          },
          "metadata": {
            "tags": []
          },
          "execution_count": 126
        }
      ]
    },
    {
      "cell_type": "markdown",
      "metadata": {
        "id": "hO8AbsS7Jz1o"
      },
      "source": [
        "We use the shape() method to find  the number of rows and columns of the dataframe."
      ]
    },
    {
      "cell_type": "code",
      "metadata": {
        "colab": {
          "base_uri": "https://localhost:8080/"
        },
        "id": "nxfMISA3majI",
        "outputId": "14055ee1-a46f-464f-d74e-442ef7f7dde1"
      },
      "source": [
        "df.shape"
      ],
      "execution_count": null,
      "outputs": [
        {
          "output_type": "execute_result",
          "data": {
            "text/plain": [
              "(292, 33)"
            ]
          },
          "metadata": {
            "tags": []
          },
          "execution_count": 127
        }
      ]
    },
    {
      "cell_type": "markdown",
      "metadata": {
        "id": "ho6p7ZaNMmKA"
      },
      "source": [
        "The first row of the dataframe does not contain any data. Rather the details of each column is stored in the first row. So, we drop the first row of the dataframe using the drop() method. Then we use the reset_index() method to reset the index."
      ]
    },
    {
      "cell_type": "code",
      "metadata": {
        "id": "S4xEESmFybwB"
      },
      "source": [
        "df.drop(0, inplace = True)\r\n",
        "df.reset_index(drop = True, inplace = True)"
      ],
      "execution_count": null,
      "outputs": []
    },
    {
      "cell_type": "markdown",
      "metadata": {
        "id": "ilngRA2RLkfw"
      },
      "source": [
        "We use the info() method to print a summary of the dataframe including the index and column data types and the count of non-null values."
      ]
    },
    {
      "cell_type": "code",
      "metadata": {
        "colab": {
          "base_uri": "https://localhost:8080/"
        },
        "id": "er3hSjilsK-N",
        "outputId": "2338dfc7-03ce-4211-b3c9-09182a1d5157"
      },
      "source": [
        "df.info()"
      ],
      "execution_count": null,
      "outputs": [
        {
          "output_type": "stream",
          "text": [
            "<class 'pandas.core.frame.DataFrame'>\n",
            "RangeIndex: 291 entries, 0 to 290\n",
            "Data columns (total 33 columns):\n",
            " #   Column                                                               Non-Null Count  Dtype         \n",
            "---  ------                                                               --------------  -----         \n",
            " 0   Post ID                                                              291 non-null    object        \n",
            " 1   Post Message                                                         273 non-null    object        \n",
            " 2   Type                                                                 289 non-null    object        \n",
            " 3   Countries                                                            0 non-null      float64       \n",
            " 4   Languages                                                            0 non-null      float64       \n",
            " 5   Posted                                                               291 non-null    datetime64[ns]\n",
            " 6   Audience Targeting                                                   291 non-null    object        \n",
            " 7   Lifetime Post Total Reach                                            291 non-null    object        \n",
            " 8   Lifetime Post organic reach                                          291 non-null    object        \n",
            " 9   Lifetime Post Paid Reach                                             291 non-null    object        \n",
            " 10  Lifetime Post Total Impressions                                      291 non-null    object        \n",
            " 11  Lifetime Post Organic Impressions                                    291 non-null    object        \n",
            " 12  Lifetime Post Paid Impressions                                       291 non-null    object        \n",
            " 13  Lifetime Engaged Users                                               291 non-null    object        \n",
            " 14  Lifetime Matched Audience Targeting Consumers on Post                291 non-null    object        \n",
            " 15  Lifetime Matched Audience Targeting Consumptions on Post             291 non-null    object        \n",
            " 16  Lifetime Negative Feedback from Users                                291 non-null    object        \n",
            " 17  Lifetime Negative Feedback                                           291 non-null    object        \n",
            " 18  Lifetime Post Impressions by people who have liked your Page         291 non-null    object        \n",
            " 19  Lifetime Post reach by people who like your Page                     291 non-null    object        \n",
            " 20  Lifetime Post Paid Impressions by people who have liked your Page    291 non-null    object        \n",
            " 21  Lifetime Paid reach of a post by people who like your Page           291 non-null    object        \n",
            " 22  Lifetime People who have liked your Page and engaged with your post  291 non-null    object        \n",
            " 23  Lifetime Organic views to 95%                                        291 non-null    object        \n",
            " 24  Lifetime Organic views to 95%.1                                      291 non-null    object        \n",
            " 25  Lifetime Paid views to 95%                                           291 non-null    object        \n",
            " 26  Lifetime Paid views to 95%.1                                         291 non-null    object        \n",
            " 27  Lifetime Organic Video Views                                         291 non-null    object        \n",
            " 28  Lifetime Organic Video Views.1                                       291 non-null    object        \n",
            " 29  Lifetime Paid Video Views                                            291 non-null    object        \n",
            " 30  Lifetime Paid Video Views.1                                          291 non-null    object        \n",
            " 31  Lifetime Average time video viewed                                   291 non-null    object        \n",
            " 32  Lifetime Video length                                                291 non-null    object        \n",
            "dtypes: datetime64[ns](1), float64(2), object(30)\n",
            "memory usage: 75.1+ KB\n"
          ],
          "name": "stdout"
        }
      ]
    },
    {
      "cell_type": "markdown",
      "metadata": {
        "id": "Y7spYNIwOHRg"
      },
      "source": [
        "All the values of the 'Countries' and 'Languages' columns are null values. So, we drop the 'Countries' and 'Languages' columns."
      ]
    },
    {
      "cell_type": "code",
      "metadata": {
        "id": "glCfBOPmrkul"
      },
      "source": [
        "df.drop([\"Countries\", \"Languages\"], axis = 1, inplace = True)"
      ],
      "execution_count": null,
      "outputs": []
    },
    {
      "cell_type": "markdown",
      "metadata": {
        "id": "BXkxUpO_Os3v"
      },
      "source": [
        "We use the describe() method to obtain a statistical summary of the dataframe."
      ]
    },
    {
      "cell_type": "code",
      "metadata": {
        "colab": {
          "base_uri": "https://localhost:8080/",
          "height": 583
        },
        "id": "lreL-PKlA1iB",
        "outputId": "5653b12e-4e07-445a-c857-139e2b2e20d9"
      },
      "source": [
        "df.describe(include = \"all\", datetime_is_numeric=True)"
      ],
      "execution_count": null,
      "outputs": [
        {
          "output_type": "execute_result",
          "data": {
            "text/html": [
              "<div>\n",
              "<style scoped>\n",
              "    .dataframe tbody tr th:only-of-type {\n",
              "        vertical-align: middle;\n",
              "    }\n",
              "\n",
              "    .dataframe tbody tr th {\n",
              "        vertical-align: top;\n",
              "    }\n",
              "\n",
              "    .dataframe thead th {\n",
              "        text-align: right;\n",
              "    }\n",
              "</style>\n",
              "<table border=\"1\" class=\"dataframe\">\n",
              "  <thead>\n",
              "    <tr style=\"text-align: right;\">\n",
              "      <th></th>\n",
              "      <th>Post ID</th>\n",
              "      <th>Post Message</th>\n",
              "      <th>Type</th>\n",
              "      <th>Posted</th>\n",
              "      <th>Audience Targeting</th>\n",
              "      <th>Lifetime Post Total Reach</th>\n",
              "      <th>Lifetime Post organic reach</th>\n",
              "      <th>Lifetime Post Paid Reach</th>\n",
              "      <th>Lifetime Post Total Impressions</th>\n",
              "      <th>Lifetime Post Organic Impressions</th>\n",
              "      <th>Lifetime Post Paid Impressions</th>\n",
              "      <th>Lifetime Engaged Users</th>\n",
              "      <th>Lifetime Matched Audience Targeting Consumers on Post</th>\n",
              "      <th>Lifetime Matched Audience Targeting Consumptions on Post</th>\n",
              "      <th>Lifetime Negative Feedback from Users</th>\n",
              "      <th>Lifetime Negative Feedback</th>\n",
              "      <th>Lifetime Post Impressions by people who have liked your Page</th>\n",
              "      <th>Lifetime Post reach by people who like your Page</th>\n",
              "      <th>Lifetime Post Paid Impressions by people who have liked your Page</th>\n",
              "      <th>Lifetime Paid reach of a post by people who like your Page</th>\n",
              "      <th>Lifetime People who have liked your Page and engaged with your post</th>\n",
              "      <th>Lifetime Organic views to 95%</th>\n",
              "      <th>Lifetime Organic views to 95%.1</th>\n",
              "      <th>Lifetime Paid views to 95%</th>\n",
              "      <th>Lifetime Paid views to 95%.1</th>\n",
              "      <th>Lifetime Organic Video Views</th>\n",
              "      <th>Lifetime Organic Video Views.1</th>\n",
              "      <th>Lifetime Paid Video Views</th>\n",
              "      <th>Lifetime Paid Video Views.1</th>\n",
              "      <th>Lifetime Average time video viewed</th>\n",
              "      <th>Lifetime Video length</th>\n",
              "    </tr>\n",
              "  </thead>\n",
              "  <tbody>\n",
              "    <tr>\n",
              "      <th>count</th>\n",
              "      <td>291</td>\n",
              "      <td>273</td>\n",
              "      <td>289</td>\n",
              "      <td>291</td>\n",
              "      <td>291</td>\n",
              "      <td>291.0</td>\n",
              "      <td>291.0</td>\n",
              "      <td>291.0</td>\n",
              "      <td>291.0</td>\n",
              "      <td>291.0</td>\n",
              "      <td>291.0</td>\n",
              "      <td>291.0</td>\n",
              "      <td>291.0</td>\n",
              "      <td>291.0</td>\n",
              "      <td>291.0</td>\n",
              "      <td>291.0</td>\n",
              "      <td>291.0</td>\n",
              "      <td>291.0</td>\n",
              "      <td>291.0</td>\n",
              "      <td>291.0</td>\n",
              "      <td>291.0</td>\n",
              "      <td>291.0</td>\n",
              "      <td>291.0</td>\n",
              "      <td>291.0</td>\n",
              "      <td>291.0</td>\n",
              "      <td>291.0</td>\n",
              "      <td>291.0</td>\n",
              "      <td>291.0</td>\n",
              "      <td>291.0</td>\n",
              "      <td>291.0</td>\n",
              "      <td>291.0</td>\n",
              "    </tr>\n",
              "    <tr>\n",
              "      <th>unique</th>\n",
              "      <td>291</td>\n",
              "      <td>270</td>\n",
              "      <td>5</td>\n",
              "      <td>NaN</td>\n",
              "      <td>1</td>\n",
              "      <td>230.0</td>\n",
              "      <td>230.0</td>\n",
              "      <td>1.0</td>\n",
              "      <td>234.0</td>\n",
              "      <td>234.0</td>\n",
              "      <td>1.0</td>\n",
              "      <td>162.0</td>\n",
              "      <td>150.0</td>\n",
              "      <td>164.0</td>\n",
              "      <td>5.0</td>\n",
              "      <td>6.0</td>\n",
              "      <td>228.0</td>\n",
              "      <td>221.0</td>\n",
              "      <td>1.0</td>\n",
              "      <td>1.0</td>\n",
              "      <td>149.0</td>\n",
              "      <td>31.0</td>\n",
              "      <td>31.0</td>\n",
              "      <td>1.0</td>\n",
              "      <td>1.0</td>\n",
              "      <td>54.0</td>\n",
              "      <td>51.0</td>\n",
              "      <td>1.0</td>\n",
              "      <td>1.0</td>\n",
              "      <td>29.0</td>\n",
              "      <td>50.0</td>\n",
              "    </tr>\n",
              "    <tr>\n",
              "      <th>top</th>\n",
              "      <td>1277547548992987_1564914663589606</td>\n",
              "      <td>Poster Maestros</td>\n",
              "      <td>Photo</td>\n",
              "      <td>NaN</td>\n",
              "      <td></td>\n",
              "      <td>2.0</td>\n",
              "      <td>2.0</td>\n",
              "      <td>0.0</td>\n",
              "      <td>2.0</td>\n",
              "      <td>2.0</td>\n",
              "      <td>0.0</td>\n",
              "      <td>0.0</td>\n",
              "      <td>0.0</td>\n",
              "      <td>0.0</td>\n",
              "      <td>0.0</td>\n",
              "      <td>0.0</td>\n",
              "      <td>2.0</td>\n",
              "      <td>2.0</td>\n",
              "      <td>0.0</td>\n",
              "      <td>0.0</td>\n",
              "      <td>0.0</td>\n",
              "      <td>0.0</td>\n",
              "      <td>0.0</td>\n",
              "      <td>0.0</td>\n",
              "      <td>0.0</td>\n",
              "      <td>0.0</td>\n",
              "      <td>0.0</td>\n",
              "      <td>0.0</td>\n",
              "      <td>0.0</td>\n",
              "      <td>0.0</td>\n",
              "      <td>0.0</td>\n",
              "    </tr>\n",
              "    <tr>\n",
              "      <th>freq</th>\n",
              "      <td>1</td>\n",
              "      <td>3</td>\n",
              "      <td>186</td>\n",
              "      <td>NaN</td>\n",
              "      <td>291</td>\n",
              "      <td>26.0</td>\n",
              "      <td>26.0</td>\n",
              "      <td>291.0</td>\n",
              "      <td>25.0</td>\n",
              "      <td>25.0</td>\n",
              "      <td>291.0</td>\n",
              "      <td>64.0</td>\n",
              "      <td>66.0</td>\n",
              "      <td>66.0</td>\n",
              "      <td>255.0</td>\n",
              "      <td>255.0</td>\n",
              "      <td>25.0</td>\n",
              "      <td>26.0</td>\n",
              "      <td>291.0</td>\n",
              "      <td>291.0</td>\n",
              "      <td>66.0</td>\n",
              "      <td>260.0</td>\n",
              "      <td>260.0</td>\n",
              "      <td>291.0</td>\n",
              "      <td>291.0</td>\n",
              "      <td>234.0</td>\n",
              "      <td>239.0</td>\n",
              "      <td>291.0</td>\n",
              "      <td>291.0</td>\n",
              "      <td>263.0</td>\n",
              "      <td>240.0</td>\n",
              "    </tr>\n",
              "    <tr>\n",
              "      <th>mean</th>\n",
              "      <td>NaN</td>\n",
              "      <td>NaN</td>\n",
              "      <td>NaN</td>\n",
              "      <td>2019-11-27 06:33:45.034363904</td>\n",
              "      <td>NaN</td>\n",
              "      <td>NaN</td>\n",
              "      <td>NaN</td>\n",
              "      <td>NaN</td>\n",
              "      <td>NaN</td>\n",
              "      <td>NaN</td>\n",
              "      <td>NaN</td>\n",
              "      <td>NaN</td>\n",
              "      <td>NaN</td>\n",
              "      <td>NaN</td>\n",
              "      <td>NaN</td>\n",
              "      <td>NaN</td>\n",
              "      <td>NaN</td>\n",
              "      <td>NaN</td>\n",
              "      <td>NaN</td>\n",
              "      <td>NaN</td>\n",
              "      <td>NaN</td>\n",
              "      <td>NaN</td>\n",
              "      <td>NaN</td>\n",
              "      <td>NaN</td>\n",
              "      <td>NaN</td>\n",
              "      <td>NaN</td>\n",
              "      <td>NaN</td>\n",
              "      <td>NaN</td>\n",
              "      <td>NaN</td>\n",
              "      <td>NaN</td>\n",
              "      <td>NaN</td>\n",
              "    </tr>\n",
              "    <tr>\n",
              "      <th>min</th>\n",
              "      <td>NaN</td>\n",
              "      <td>NaN</td>\n",
              "      <td>NaN</td>\n",
              "      <td>2017-12-31 09:58:18</td>\n",
              "      <td>NaN</td>\n",
              "      <td>NaN</td>\n",
              "      <td>NaN</td>\n",
              "      <td>NaN</td>\n",
              "      <td>NaN</td>\n",
              "      <td>NaN</td>\n",
              "      <td>NaN</td>\n",
              "      <td>NaN</td>\n",
              "      <td>NaN</td>\n",
              "      <td>NaN</td>\n",
              "      <td>NaN</td>\n",
              "      <td>NaN</td>\n",
              "      <td>NaN</td>\n",
              "      <td>NaN</td>\n",
              "      <td>NaN</td>\n",
              "      <td>NaN</td>\n",
              "      <td>NaN</td>\n",
              "      <td>NaN</td>\n",
              "      <td>NaN</td>\n",
              "      <td>NaN</td>\n",
              "      <td>NaN</td>\n",
              "      <td>NaN</td>\n",
              "      <td>NaN</td>\n",
              "      <td>NaN</td>\n",
              "      <td>NaN</td>\n",
              "      <td>NaN</td>\n",
              "      <td>NaN</td>\n",
              "    </tr>\n",
              "    <tr>\n",
              "      <th>25%</th>\n",
              "      <td>NaN</td>\n",
              "      <td>NaN</td>\n",
              "      <td>NaN</td>\n",
              "      <td>2019-02-21 06:07:16.500000</td>\n",
              "      <td>NaN</td>\n",
              "      <td>NaN</td>\n",
              "      <td>NaN</td>\n",
              "      <td>NaN</td>\n",
              "      <td>NaN</td>\n",
              "      <td>NaN</td>\n",
              "      <td>NaN</td>\n",
              "      <td>NaN</td>\n",
              "      <td>NaN</td>\n",
              "      <td>NaN</td>\n",
              "      <td>NaN</td>\n",
              "      <td>NaN</td>\n",
              "      <td>NaN</td>\n",
              "      <td>NaN</td>\n",
              "      <td>NaN</td>\n",
              "      <td>NaN</td>\n",
              "      <td>NaN</td>\n",
              "      <td>NaN</td>\n",
              "      <td>NaN</td>\n",
              "      <td>NaN</td>\n",
              "      <td>NaN</td>\n",
              "      <td>NaN</td>\n",
              "      <td>NaN</td>\n",
              "      <td>NaN</td>\n",
              "      <td>NaN</td>\n",
              "      <td>NaN</td>\n",
              "      <td>NaN</td>\n",
              "    </tr>\n",
              "    <tr>\n",
              "      <th>50%</th>\n",
              "      <td>NaN</td>\n",
              "      <td>NaN</td>\n",
              "      <td>NaN</td>\n",
              "      <td>2020-03-17 01:47:43</td>\n",
              "      <td>NaN</td>\n",
              "      <td>NaN</td>\n",
              "      <td>NaN</td>\n",
              "      <td>NaN</td>\n",
              "      <td>NaN</td>\n",
              "      <td>NaN</td>\n",
              "      <td>NaN</td>\n",
              "      <td>NaN</td>\n",
              "      <td>NaN</td>\n",
              "      <td>NaN</td>\n",
              "      <td>NaN</td>\n",
              "      <td>NaN</td>\n",
              "      <td>NaN</td>\n",
              "      <td>NaN</td>\n",
              "      <td>NaN</td>\n",
              "      <td>NaN</td>\n",
              "      <td>NaN</td>\n",
              "      <td>NaN</td>\n",
              "      <td>NaN</td>\n",
              "      <td>NaN</td>\n",
              "      <td>NaN</td>\n",
              "      <td>NaN</td>\n",
              "      <td>NaN</td>\n",
              "      <td>NaN</td>\n",
              "      <td>NaN</td>\n",
              "      <td>NaN</td>\n",
              "      <td>NaN</td>\n",
              "    </tr>\n",
              "    <tr>\n",
              "      <th>75%</th>\n",
              "      <td>NaN</td>\n",
              "      <td>NaN</td>\n",
              "      <td>NaN</td>\n",
              "      <td>2020-07-24 02:16:18.500000</td>\n",
              "      <td>NaN</td>\n",
              "      <td>NaN</td>\n",
              "      <td>NaN</td>\n",
              "      <td>NaN</td>\n",
              "      <td>NaN</td>\n",
              "      <td>NaN</td>\n",
              "      <td>NaN</td>\n",
              "      <td>NaN</td>\n",
              "      <td>NaN</td>\n",
              "      <td>NaN</td>\n",
              "      <td>NaN</td>\n",
              "      <td>NaN</td>\n",
              "      <td>NaN</td>\n",
              "      <td>NaN</td>\n",
              "      <td>NaN</td>\n",
              "      <td>NaN</td>\n",
              "      <td>NaN</td>\n",
              "      <td>NaN</td>\n",
              "      <td>NaN</td>\n",
              "      <td>NaN</td>\n",
              "      <td>NaN</td>\n",
              "      <td>NaN</td>\n",
              "      <td>NaN</td>\n",
              "      <td>NaN</td>\n",
              "      <td>NaN</td>\n",
              "      <td>NaN</td>\n",
              "      <td>NaN</td>\n",
              "    </tr>\n",
              "    <tr>\n",
              "      <th>max</th>\n",
              "      <td>NaN</td>\n",
              "      <td>NaN</td>\n",
              "      <td>NaN</td>\n",
              "      <td>2021-03-04 20:00:56</td>\n",
              "      <td>NaN</td>\n",
              "      <td>NaN</td>\n",
              "      <td>NaN</td>\n",
              "      <td>NaN</td>\n",
              "      <td>NaN</td>\n",
              "      <td>NaN</td>\n",
              "      <td>NaN</td>\n",
              "      <td>NaN</td>\n",
              "      <td>NaN</td>\n",
              "      <td>NaN</td>\n",
              "      <td>NaN</td>\n",
              "      <td>NaN</td>\n",
              "      <td>NaN</td>\n",
              "      <td>NaN</td>\n",
              "      <td>NaN</td>\n",
              "      <td>NaN</td>\n",
              "      <td>NaN</td>\n",
              "      <td>NaN</td>\n",
              "      <td>NaN</td>\n",
              "      <td>NaN</td>\n",
              "      <td>NaN</td>\n",
              "      <td>NaN</td>\n",
              "      <td>NaN</td>\n",
              "      <td>NaN</td>\n",
              "      <td>NaN</td>\n",
              "      <td>NaN</td>\n",
              "      <td>NaN</td>\n",
              "    </tr>\n",
              "  </tbody>\n",
              "</table>\n",
              "</div>"
            ],
            "text/plain": [
              "                                  Post ID  ... Lifetime Video length\n",
              "count                                 291  ...                 291.0\n",
              "unique                                291  ...                  50.0\n",
              "top     1277547548992987_1564914663589606  ...                   0.0\n",
              "freq                                    1  ...                 240.0\n",
              "mean                                  NaN  ...                   NaN\n",
              "min                                   NaN  ...                   NaN\n",
              "25%                                   NaN  ...                   NaN\n",
              "50%                                   NaN  ...                   NaN\n",
              "75%                                   NaN  ...                   NaN\n",
              "max                                   NaN  ...                   NaN\n",
              "\n",
              "[10 rows x 31 columns]"
            ]
          },
          "metadata": {
            "tags": []
          },
          "execution_count": 131
        }
      ]
    },
    {
      "cell_type": "markdown",
      "metadata": {
        "id": "EG444upGPbrv"
      },
      "source": [
        "The 'Audience' column has only one unique value. So, we drop this column as there is no variance in this column values. "
      ]
    },
    {
      "cell_type": "code",
      "metadata": {
        "id": "ZpL69dQSA37Q"
      },
      "source": [
        "df.drop(\"Audience Targeting\", axis = 1, inplace = True)"
      ],
      "execution_count": null,
      "outputs": []
    },
    {
      "cell_type": "markdown",
      "metadata": {
        "id": "WvsxitiaP7AP"
      },
      "source": [
        "We drop the unnecessary columns that do not contain any valuable information and will not help us to find insights from the data."
      ]
    },
    {
      "cell_type": "code",
      "metadata": {
        "id": "breV8etSIeDf"
      },
      "source": [
        "df.drop([\"Post ID\", \"Post Message\", \"Lifetime Post organic reach\", \"Lifetime Post Paid Reach\", \"Lifetime Post Organic Impressions\", \"Lifetime Post Paid Impressions\", \"Lifetime Post Paid Impressions by people who have liked your Page\", \"Lifetime Paid reach of a post by people who like your Page\", \"Lifetime Paid views to 95%\", \"Lifetime Paid views to 95%.1\", \"Lifetime Paid Video Views\", \"Lifetime Paid Video Views.1\" ], axis =1, inplace = True)"
      ],
      "execution_count": null,
      "outputs": []
    },
    {
      "cell_type": "markdown",
      "metadata": {
        "id": "ZkLrtSUyQ-Vh"
      },
      "source": [
        "We convert the data types of the columns using the infer_objects() method as some of the columns do not have the correct data type."
      ]
    },
    {
      "cell_type": "code",
      "metadata": {
        "id": "t3MRQO_G3A34",
        "colab": {
          "base_uri": "https://localhost:8080/"
        },
        "outputId": "f392a559-8f04-47fe-d11e-2261c6d3a005"
      },
      "source": [
        "df = df.infer_objects()\r\n",
        "df.dtypes"
      ],
      "execution_count": null,
      "outputs": [
        {
          "output_type": "execute_result",
          "data": {
            "text/plain": [
              "Type                                                                           object\n",
              "Posted                                                                 datetime64[ns]\n",
              "Lifetime Post Total Reach                                                       int64\n",
              "Lifetime Post Total Impressions                                                 int64\n",
              "Lifetime Engaged Users                                                          int64\n",
              "Lifetime Matched Audience Targeting Consumers on Post                           int64\n",
              "Lifetime Matched Audience Targeting Consumptions on Post                        int64\n",
              "Lifetime Negative Feedback from Users                                           int64\n",
              "Lifetime Negative Feedback                                                      int64\n",
              "Lifetime Post Impressions by people who have liked your Page                    int64\n",
              "Lifetime Post reach by people who like your Page                                int64\n",
              "Lifetime People who have liked your Page and engaged with your post             int64\n",
              "Lifetime Organic views to 95%                                                   int64\n",
              "Lifetime Organic views to 95%.1                                                 int64\n",
              "Lifetime Organic Video Views                                                    int64\n",
              "Lifetime Organic Video Views.1                                                  int64\n",
              "Lifetime Average time video viewed                                              int64\n",
              "Lifetime Video length                                                           int64\n",
              "dtype: object"
            ]
          },
          "metadata": {
            "tags": []
          },
          "execution_count": 134
        }
      ]
    },
    {
      "cell_type": "markdown",
      "metadata": {
        "id": "hpiJ4tdFR97w"
      },
      "source": [
        "Now all the columns have the correct data type."
      ]
    },
    {
      "cell_type": "markdown",
      "metadata": {
        "id": "ILiZiL5gSETH"
      },
      "source": [
        "We handle the missing values of the 'Type' column by replacing them with the most frequent value of the column using the method replace()."
      ]
    },
    {
      "cell_type": "code",
      "metadata": {
        "id": "W9UsxqVFw5si"
      },
      "source": [
        "df[\"Type\"].replace(np.nan, df[\"Type\"].value_counts().idxmax(), inplace = True)"
      ],
      "execution_count": null,
      "outputs": []
    },
    {
      "cell_type": "code",
      "metadata": {
        "colab": {
          "base_uri": "https://localhost:8080/"
        },
        "id": "Ivw_Q5jxx5XC",
        "outputId": "7cfe989a-3c24-4909-f9dc-70f073548120"
      },
      "source": [
        "df.info()"
      ],
      "execution_count": null,
      "outputs": [
        {
          "output_type": "stream",
          "text": [
            "<class 'pandas.core.frame.DataFrame'>\n",
            "RangeIndex: 291 entries, 0 to 290\n",
            "Data columns (total 18 columns):\n",
            " #   Column                                                               Non-Null Count  Dtype         \n",
            "---  ------                                                               --------------  -----         \n",
            " 0   Type                                                                 291 non-null    object        \n",
            " 1   Posted                                                               291 non-null    datetime64[ns]\n",
            " 2   Lifetime Post Total Reach                                            291 non-null    int64         \n",
            " 3   Lifetime Post Total Impressions                                      291 non-null    int64         \n",
            " 4   Lifetime Engaged Users                                               291 non-null    int64         \n",
            " 5   Lifetime Matched Audience Targeting Consumers on Post                291 non-null    int64         \n",
            " 6   Lifetime Matched Audience Targeting Consumptions on Post             291 non-null    int64         \n",
            " 7   Lifetime Negative Feedback from Users                                291 non-null    int64         \n",
            " 8   Lifetime Negative Feedback                                           291 non-null    int64         \n",
            " 9   Lifetime Post Impressions by people who have liked your Page         291 non-null    int64         \n",
            " 10  Lifetime Post reach by people who like your Page                     291 non-null    int64         \n",
            " 11  Lifetime People who have liked your Page and engaged with your post  291 non-null    int64         \n",
            " 12  Lifetime Organic views to 95%                                        291 non-null    int64         \n",
            " 13  Lifetime Organic views to 95%.1                                      291 non-null    int64         \n",
            " 14  Lifetime Organic Video Views                                         291 non-null    int64         \n",
            " 15  Lifetime Organic Video Views.1                                       291 non-null    int64         \n",
            " 16  Lifetime Average time video viewed                                   291 non-null    int64         \n",
            " 17  Lifetime Video length                                                291 non-null    int64         \n",
            "dtypes: datetime64[ns](1), int64(16), object(1)\n",
            "memory usage: 41.0+ KB\n"
          ],
          "name": "stdout"
        }
      ]
    },
    {
      "cell_type": "markdown",
      "metadata": {
        "id": "GCQWuEV7TB0y"
      },
      "source": [
        "Now the data is processed. It has no missing values and the data types are also correct."
      ]
    },
    {
      "cell_type": "markdown",
      "metadata": {
        "id": "Cr-vzgaOTZkP"
      },
      "source": [
        "We find the correlation of all the the numeric columns of the dataframe using the corr() method."
      ]
    },
    {
      "cell_type": "code",
      "metadata": {
        "colab": {
          "base_uri": "https://localhost:8080/",
          "height": 1000
        },
        "id": "C5kp60V7x855",
        "outputId": "611f20d8-c42f-45e8-8490-6d79e1e231b6"
      },
      "source": [
        "df.corr()"
      ],
      "execution_count": null,
      "outputs": [
        {
          "output_type": "execute_result",
          "data": {
            "text/html": [
              "<div>\n",
              "<style scoped>\n",
              "    .dataframe tbody tr th:only-of-type {\n",
              "        vertical-align: middle;\n",
              "    }\n",
              "\n",
              "    .dataframe tbody tr th {\n",
              "        vertical-align: top;\n",
              "    }\n",
              "\n",
              "    .dataframe thead th {\n",
              "        text-align: right;\n",
              "    }\n",
              "</style>\n",
              "<table border=\"1\" class=\"dataframe\">\n",
              "  <thead>\n",
              "    <tr style=\"text-align: right;\">\n",
              "      <th></th>\n",
              "      <th>Lifetime Post Total Reach</th>\n",
              "      <th>Lifetime Post Total Impressions</th>\n",
              "      <th>Lifetime Engaged Users</th>\n",
              "      <th>Lifetime Matched Audience Targeting Consumers on Post</th>\n",
              "      <th>Lifetime Matched Audience Targeting Consumptions on Post</th>\n",
              "      <th>Lifetime Negative Feedback from Users</th>\n",
              "      <th>Lifetime Negative Feedback</th>\n",
              "      <th>Lifetime Post Impressions by people who have liked your Page</th>\n",
              "      <th>Lifetime Post reach by people who like your Page</th>\n",
              "      <th>Lifetime People who have liked your Page and engaged with your post</th>\n",
              "      <th>Lifetime Organic views to 95%</th>\n",
              "      <th>Lifetime Organic views to 95%.1</th>\n",
              "      <th>Lifetime Organic Video Views</th>\n",
              "      <th>Lifetime Organic Video Views.1</th>\n",
              "      <th>Lifetime Average time video viewed</th>\n",
              "      <th>Lifetime Video length</th>\n",
              "    </tr>\n",
              "  </thead>\n",
              "  <tbody>\n",
              "    <tr>\n",
              "      <th>Lifetime Post Total Reach</th>\n",
              "      <td>1.000000</td>\n",
              "      <td>0.981601</td>\n",
              "      <td>0.882641</td>\n",
              "      <td>0.821390</td>\n",
              "      <td>0.762453</td>\n",
              "      <td>0.282300</td>\n",
              "      <td>0.259817</td>\n",
              "      <td>0.909835</td>\n",
              "      <td>0.888822</td>\n",
              "      <td>0.882466</td>\n",
              "      <td>0.374821</td>\n",
              "      <td>0.376613</td>\n",
              "      <td>0.498431</td>\n",
              "      <td>0.503436</td>\n",
              "      <td>0.313611</td>\n",
              "      <td>0.092060</td>\n",
              "    </tr>\n",
              "    <tr>\n",
              "      <th>Lifetime Post Total Impressions</th>\n",
              "      <td>0.981601</td>\n",
              "      <td>1.000000</td>\n",
              "      <td>0.872118</td>\n",
              "      <td>0.813738</td>\n",
              "      <td>0.760049</td>\n",
              "      <td>0.265681</td>\n",
              "      <td>0.243494</td>\n",
              "      <td>0.937582</td>\n",
              "      <td>0.862648</td>\n",
              "      <td>0.871672</td>\n",
              "      <td>0.429660</td>\n",
              "      <td>0.428942</td>\n",
              "      <td>0.527860</td>\n",
              "      <td>0.531186</td>\n",
              "      <td>0.310595</td>\n",
              "      <td>0.083097</td>\n",
              "    </tr>\n",
              "    <tr>\n",
              "      <th>Lifetime Engaged Users</th>\n",
              "      <td>0.882641</td>\n",
              "      <td>0.872118</td>\n",
              "      <td>1.000000</td>\n",
              "      <td>0.979857</td>\n",
              "      <td>0.954847</td>\n",
              "      <td>0.464318</td>\n",
              "      <td>0.433242</td>\n",
              "      <td>0.807865</td>\n",
              "      <td>0.785014</td>\n",
              "      <td>0.966099</td>\n",
              "      <td>0.358376</td>\n",
              "      <td>0.355986</td>\n",
              "      <td>0.630175</td>\n",
              "      <td>0.635128</td>\n",
              "      <td>0.547500</td>\n",
              "      <td>0.206339</td>\n",
              "    </tr>\n",
              "    <tr>\n",
              "      <th>Lifetime Matched Audience Targeting Consumers on Post</th>\n",
              "      <td>0.821390</td>\n",
              "      <td>0.813738</td>\n",
              "      <td>0.979857</td>\n",
              "      <td>1.000000</td>\n",
              "      <td>0.984577</td>\n",
              "      <td>0.482226</td>\n",
              "      <td>0.451560</td>\n",
              "      <td>0.751028</td>\n",
              "      <td>0.719886</td>\n",
              "      <td>0.940019</td>\n",
              "      <td>0.363528</td>\n",
              "      <td>0.361488</td>\n",
              "      <td>0.674961</td>\n",
              "      <td>0.681405</td>\n",
              "      <td>0.595942</td>\n",
              "      <td>0.235332</td>\n",
              "    </tr>\n",
              "    <tr>\n",
              "      <th>Lifetime Matched Audience Targeting Consumptions on Post</th>\n",
              "      <td>0.762453</td>\n",
              "      <td>0.760049</td>\n",
              "      <td>0.954847</td>\n",
              "      <td>0.984577</td>\n",
              "      <td>1.000000</td>\n",
              "      <td>0.551361</td>\n",
              "      <td>0.514338</td>\n",
              "      <td>0.702370</td>\n",
              "      <td>0.665612</td>\n",
              "      <td>0.903104</td>\n",
              "      <td>0.328418</td>\n",
              "      <td>0.327175</td>\n",
              "      <td>0.700015</td>\n",
              "      <td>0.710260</td>\n",
              "      <td>0.686827</td>\n",
              "      <td>0.286527</td>\n",
              "    </tr>\n",
              "    <tr>\n",
              "      <th>Lifetime Negative Feedback from Users</th>\n",
              "      <td>0.282300</td>\n",
              "      <td>0.265681</td>\n",
              "      <td>0.464318</td>\n",
              "      <td>0.482226</td>\n",
              "      <td>0.551361</td>\n",
              "      <td>1.000000</td>\n",
              "      <td>0.962623</td>\n",
              "      <td>0.256122</td>\n",
              "      <td>0.277802</td>\n",
              "      <td>0.395640</td>\n",
              "      <td>-0.028436</td>\n",
              "      <td>-0.027314</td>\n",
              "      <td>0.436446</td>\n",
              "      <td>0.451966</td>\n",
              "      <td>0.696829</td>\n",
              "      <td>0.408839</td>\n",
              "    </tr>\n",
              "    <tr>\n",
              "      <th>Lifetime Negative Feedback</th>\n",
              "      <td>0.259817</td>\n",
              "      <td>0.243494</td>\n",
              "      <td>0.433242</td>\n",
              "      <td>0.451560</td>\n",
              "      <td>0.514338</td>\n",
              "      <td>0.962623</td>\n",
              "      <td>1.000000</td>\n",
              "      <td>0.243012</td>\n",
              "      <td>0.268611</td>\n",
              "      <td>0.377402</td>\n",
              "      <td>-0.030494</td>\n",
              "      <td>-0.029382</td>\n",
              "      <td>0.400760</td>\n",
              "      <td>0.415343</td>\n",
              "      <td>0.643701</td>\n",
              "      <td>0.377198</td>\n",
              "    </tr>\n",
              "    <tr>\n",
              "      <th>Lifetime Post Impressions by people who have liked your Page</th>\n",
              "      <td>0.909835</td>\n",
              "      <td>0.937582</td>\n",
              "      <td>0.807865</td>\n",
              "      <td>0.751028</td>\n",
              "      <td>0.702370</td>\n",
              "      <td>0.256122</td>\n",
              "      <td>0.243012</td>\n",
              "      <td>1.000000</td>\n",
              "      <td>0.948412</td>\n",
              "      <td>0.873316</td>\n",
              "      <td>0.428636</td>\n",
              "      <td>0.423947</td>\n",
              "      <td>0.505752</td>\n",
              "      <td>0.504137</td>\n",
              "      <td>0.283678</td>\n",
              "      <td>0.069463</td>\n",
              "    </tr>\n",
              "    <tr>\n",
              "      <th>Lifetime Post reach by people who like your Page</th>\n",
              "      <td>0.888822</td>\n",
              "      <td>0.862648</td>\n",
              "      <td>0.785014</td>\n",
              "      <td>0.719886</td>\n",
              "      <td>0.665612</td>\n",
              "      <td>0.277802</td>\n",
              "      <td>0.268611</td>\n",
              "      <td>0.948412</td>\n",
              "      <td>1.000000</td>\n",
              "      <td>0.870808</td>\n",
              "      <td>0.306710</td>\n",
              "      <td>0.303284</td>\n",
              "      <td>0.415170</td>\n",
              "      <td>0.412090</td>\n",
              "      <td>0.272049</td>\n",
              "      <td>0.080241</td>\n",
              "    </tr>\n",
              "    <tr>\n",
              "      <th>Lifetime People who have liked your Page and engaged with your post</th>\n",
              "      <td>0.882466</td>\n",
              "      <td>0.871672</td>\n",
              "      <td>0.966099</td>\n",
              "      <td>0.940019</td>\n",
              "      <td>0.903104</td>\n",
              "      <td>0.395640</td>\n",
              "      <td>0.377402</td>\n",
              "      <td>0.873316</td>\n",
              "      <td>0.870808</td>\n",
              "      <td>1.000000</td>\n",
              "      <td>0.363507</td>\n",
              "      <td>0.360626</td>\n",
              "      <td>0.566029</td>\n",
              "      <td>0.568662</td>\n",
              "      <td>0.454554</td>\n",
              "      <td>0.152266</td>\n",
              "    </tr>\n",
              "    <tr>\n",
              "      <th>Lifetime Organic views to 95%</th>\n",
              "      <td>0.374821</td>\n",
              "      <td>0.429660</td>\n",
              "      <td>0.358376</td>\n",
              "      <td>0.363528</td>\n",
              "      <td>0.328418</td>\n",
              "      <td>-0.028436</td>\n",
              "      <td>-0.030494</td>\n",
              "      <td>0.428636</td>\n",
              "      <td>0.306710</td>\n",
              "      <td>0.363507</td>\n",
              "      <td>1.000000</td>\n",
              "      <td>0.998363</td>\n",
              "      <td>0.654049</td>\n",
              "      <td>0.642588</td>\n",
              "      <td>0.113063</td>\n",
              "      <td>-0.019060</td>\n",
              "    </tr>\n",
              "    <tr>\n",
              "      <th>Lifetime Organic views to 95%.1</th>\n",
              "      <td>0.376613</td>\n",
              "      <td>0.428942</td>\n",
              "      <td>0.355986</td>\n",
              "      <td>0.361488</td>\n",
              "      <td>0.327175</td>\n",
              "      <td>-0.027314</td>\n",
              "      <td>-0.029382</td>\n",
              "      <td>0.423947</td>\n",
              "      <td>0.303284</td>\n",
              "      <td>0.360626</td>\n",
              "      <td>0.998363</td>\n",
              "      <td>1.000000</td>\n",
              "      <td>0.649743</td>\n",
              "      <td>0.641393</td>\n",
              "      <td>0.110552</td>\n",
              "      <td>-0.018688</td>\n",
              "    </tr>\n",
              "    <tr>\n",
              "      <th>Lifetime Organic Video Views</th>\n",
              "      <td>0.498431</td>\n",
              "      <td>0.527860</td>\n",
              "      <td>0.630175</td>\n",
              "      <td>0.674961</td>\n",
              "      <td>0.700015</td>\n",
              "      <td>0.436446</td>\n",
              "      <td>0.400760</td>\n",
              "      <td>0.505752</td>\n",
              "      <td>0.415170</td>\n",
              "      <td>0.566029</td>\n",
              "      <td>0.654049</td>\n",
              "      <td>0.649743</td>\n",
              "      <td>1.000000</td>\n",
              "      <td>0.994840</td>\n",
              "      <td>0.733399</td>\n",
              "      <td>0.311906</td>\n",
              "    </tr>\n",
              "    <tr>\n",
              "      <th>Lifetime Organic Video Views.1</th>\n",
              "      <td>0.503436</td>\n",
              "      <td>0.531186</td>\n",
              "      <td>0.635128</td>\n",
              "      <td>0.681405</td>\n",
              "      <td>0.710260</td>\n",
              "      <td>0.451966</td>\n",
              "      <td>0.415343</td>\n",
              "      <td>0.504137</td>\n",
              "      <td>0.412090</td>\n",
              "      <td>0.568662</td>\n",
              "      <td>0.642588</td>\n",
              "      <td>0.641393</td>\n",
              "      <td>0.994840</td>\n",
              "      <td>1.000000</td>\n",
              "      <td>0.741235</td>\n",
              "      <td>0.315524</td>\n",
              "    </tr>\n",
              "    <tr>\n",
              "      <th>Lifetime Average time video viewed</th>\n",
              "      <td>0.313611</td>\n",
              "      <td>0.310595</td>\n",
              "      <td>0.547500</td>\n",
              "      <td>0.595942</td>\n",
              "      <td>0.686827</td>\n",
              "      <td>0.696829</td>\n",
              "      <td>0.643701</td>\n",
              "      <td>0.283678</td>\n",
              "      <td>0.272049</td>\n",
              "      <td>0.454554</td>\n",
              "      <td>0.113063</td>\n",
              "      <td>0.110552</td>\n",
              "      <td>0.733399</td>\n",
              "      <td>0.741235</td>\n",
              "      <td>1.000000</td>\n",
              "      <td>0.461891</td>\n",
              "    </tr>\n",
              "    <tr>\n",
              "      <th>Lifetime Video length</th>\n",
              "      <td>0.092060</td>\n",
              "      <td>0.083097</td>\n",
              "      <td>0.206339</td>\n",
              "      <td>0.235332</td>\n",
              "      <td>0.286527</td>\n",
              "      <td>0.408839</td>\n",
              "      <td>0.377198</td>\n",
              "      <td>0.069463</td>\n",
              "      <td>0.080241</td>\n",
              "      <td>0.152266</td>\n",
              "      <td>-0.019060</td>\n",
              "      <td>-0.018688</td>\n",
              "      <td>0.311906</td>\n",
              "      <td>0.315524</td>\n",
              "      <td>0.461891</td>\n",
              "      <td>1.000000</td>\n",
              "    </tr>\n",
              "  </tbody>\n",
              "</table>\n",
              "</div>"
            ],
            "text/plain": [
              "                                                    Lifetime Post Total Reach  ...  Lifetime Video length\n",
              "Lifetime Post Total Reach                                            1.000000  ...               0.092060\n",
              "Lifetime Post Total Impressions                                      0.981601  ...               0.083097\n",
              "Lifetime Engaged Users                                               0.882641  ...               0.206339\n",
              "Lifetime Matched Audience Targeting Consumers o...                   0.821390  ...               0.235332\n",
              "Lifetime Matched Audience Targeting Consumption...                   0.762453  ...               0.286527\n",
              "Lifetime Negative Feedback from Users                                0.282300  ...               0.408839\n",
              "Lifetime Negative Feedback                                           0.259817  ...               0.377198\n",
              "Lifetime Post Impressions by people who have li...                   0.909835  ...               0.069463\n",
              "Lifetime Post reach by people who like your Page                     0.888822  ...               0.080241\n",
              "Lifetime People who have liked your Page and en...                   0.882466  ...               0.152266\n",
              "Lifetime Organic views to 95%                                        0.374821  ...              -0.019060\n",
              "Lifetime Organic views to 95%.1                                      0.376613  ...              -0.018688\n",
              "Lifetime Organic Video Views                                         0.498431  ...               0.311906\n",
              "Lifetime Organic Video Views.1                                       0.503436  ...               0.315524\n",
              "Lifetime Average time video viewed                                   0.313611  ...               0.461891\n",
              "Lifetime Video length                                                0.092060  ...               1.000000\n",
              "\n",
              "[16 rows x 16 columns]"
            ]
          },
          "metadata": {
            "tags": []
          },
          "execution_count": 137
        }
      ]
    },
    {
      "cell_type": "markdown",
      "metadata": {
        "id": "JISeRlQ4VoLT"
      },
      "source": [
        "We use the method value_counts() to count the number of posts with unique 'Type' values. Then we use the method to_frame() to convert it to a dataframe."
      ]
    },
    {
      "cell_type": "code",
      "metadata": {
        "colab": {
          "base_uri": "https://localhost:8080/",
          "height": 196
        },
        "id": "nYB1mWm4yGLO",
        "outputId": "98f52b37-191a-486c-aaf9-b60d226189f3"
      },
      "source": [
        "df[\"Type\"].value_counts().to_frame()"
      ],
      "execution_count": null,
      "outputs": [
        {
          "output_type": "execute_result",
          "data": {
            "text/html": [
              "<div>\n",
              "<style scoped>\n",
              "    .dataframe tbody tr th:only-of-type {\n",
              "        vertical-align: middle;\n",
              "    }\n",
              "\n",
              "    .dataframe tbody tr th {\n",
              "        vertical-align: top;\n",
              "    }\n",
              "\n",
              "    .dataframe thead th {\n",
              "        text-align: right;\n",
              "    }\n",
              "</style>\n",
              "<table border=\"1\" class=\"dataframe\">\n",
              "  <thead>\n",
              "    <tr style=\"text-align: right;\">\n",
              "      <th></th>\n",
              "      <th>Type</th>\n",
              "    </tr>\n",
              "  </thead>\n",
              "  <tbody>\n",
              "    <tr>\n",
              "      <th>Photo</th>\n",
              "      <td>188</td>\n",
              "    </tr>\n",
              "    <tr>\n",
              "      <th>Status</th>\n",
              "      <td>29</td>\n",
              "    </tr>\n",
              "    <tr>\n",
              "      <th>Video</th>\n",
              "      <td>28</td>\n",
              "    </tr>\n",
              "    <tr>\n",
              "      <th>Link</th>\n",
              "      <td>26</td>\n",
              "    </tr>\n",
              "    <tr>\n",
              "      <th>SharedVideo</th>\n",
              "      <td>20</td>\n",
              "    </tr>\n",
              "  </tbody>\n",
              "</table>\n",
              "</div>"
            ],
            "text/plain": [
              "             Type\n",
              "Photo         188\n",
              "Status         29\n",
              "Video          28\n",
              "Link           26\n",
              "SharedVideo    20"
            ]
          },
          "metadata": {
            "tags": []
          },
          "execution_count": 138
        }
      ]
    },
    {
      "cell_type": "markdown",
      "metadata": {
        "id": "CuqWAdaSGUPL"
      },
      "source": [
        "Most of the posts are of the type 'Photo'. The type 'SharedVideo' has the least number of posts."
      ]
    },
    {
      "cell_type": "markdown",
      "metadata": {
        "id": "bzdRzavWWS3R"
      },
      "source": [
        "We use the function boxplot in the seaborn library to determine which type of posts have more post reach outliers."
      ]
    },
    {
      "cell_type": "code",
      "metadata": {
        "colab": {
          "base_uri": "https://localhost:8080/",
          "height": 388
        },
        "id": "ubDaNUoa3XJ7",
        "outputId": "d2ed32aa-da02-4bc1-ddda-228ff99cd439"
      },
      "source": [
        "plt.figure(figsize = (10,6))\r\n",
        "sns.boxplot(x = 'Type', y = 'Lifetime Post Total Reach', data = df)\r\n",
        "plt.show()"
      ],
      "execution_count": null,
      "outputs": [
        {
          "output_type": "display_data",
          "data": {
            "image/png": "[encoded data removed]",
            "text/plain": [
              "<Figure size 720x432 with 1 Axes>"
            ]
          },
          "metadata": {
            "tags": [],
            "needs_background": "light"
          }
        }
      ]
    },
    {
      "cell_type": "markdown",
      "metadata": {
        "id": "oujAfpSvGjEl"
      },
      "source": [
        "The posts of the type 'Photo' has a lot of 'Lifetime Post Total Reach' outliers."
      ]
    },
    {
      "cell_type": "markdown",
      "metadata": {
        "id": "T6t1bTabWyob"
      },
      "source": [
        "We use the function stripplot in the seaborn library to determine which type of posts have more post impressions outliers."
      ]
    },
    {
      "cell_type": "code",
      "metadata": {
        "colab": {
          "base_uri": "https://localhost:8080/",
          "height": 388
        },
        "id": "f5c1-duJ21jg",
        "outputId": "11e1e843-d44b-4bac-de57-fd3a3c004e20"
      },
      "source": [
        "plt.figure(figsize = (10,6))\r\n",
        "sns.stripplot(x = 'Type', y = 'Lifetime Post Total Impressions', data = df)\r\n",
        "plt.show()"
      ],
      "execution_count": null,
      "outputs": [
        {
          "output_type": "display_data",
          "data": {
            "image/png": "[encoded data removed]",
            "text/plain": [
              "<Figure size 720x432 with 1 Axes>"
            ]
          },
          "metadata": {
            "tags": [],
            "needs_background": "light"
          }
        }
      ]
    },
    {
      "cell_type": "markdown",
      "metadata": {
        "id": "7UzDu2dxGv42"
      },
      "source": [
        "The posts of the type 'Photo', 'Video' and 'Status' have 'Lifetime Post Total Impressions' outliers."
      ]
    },
    {
      "cell_type": "markdown",
      "metadata": {
        "id": "viYsLhO6YIW5"
      },
      "source": [
        "We use bargraphs to understand the distribution of Lifetime Engaged Users and Lifetime Negative Feedback for each Type."
      ]
    },
    {
      "cell_type": "code",
      "metadata": {
        "colab": {
          "base_uri": "https://localhost:8080/",
          "height": 759
        },
        "id": "1G8CBcmD8CRA",
        "outputId": "e6d65973-c58d-4519-f5af-f8b6a18fb612"
      },
      "source": [
        "plt.figure(figsize = (10,6))\r\n",
        "plt.bar(df['Type'], df['Lifetime Engaged Users'])\r\n",
        "plt.xlabel(\"Type\")\r\n",
        "plt.ylabel(\"Lifetime Engaged Users\")\r\n",
        "plt.show()\r\n",
        "plt.figure(figsize = (10,6))\r\n",
        "plt.bar(df['Type'], df['Lifetime Negative Feedback'])\r\n",
        "plt.xlabel(\"Type\")\r\n",
        "plt.ylabel(\"Lifetime Negative Feedback\")\r\n",
        "plt.show()"
      ],
      "execution_count": null,
      "outputs": [
        {
          "output_type": "display_data",
          "data": {
            "image/png": "[encoded data removed]",
            "text/plain": [
              "<Figure size 720x432 with 1 Axes>"
            ]
          },
          "metadata": {
            "tags": [],
            "needs_background": "light"
          }
        },
        {
          "output_type": "display_data",
          "data": {
            "image/png": "[encoded data removed]",
            "text/plain": [
              "<Figure size 720x432 with 1 Axes>"
            ]
          },
          "metadata": {
            "tags": [],
            "needs_background": "light"
          }
        }
      ]
    },
    {
      "cell_type": "markdown",
      "metadata": {
        "id": "3SiceI9hG36d"
      },
      "source": [
        "The posts of the type 'Video' has the highest 'Lifetime Engaged Users' followed by the type 'Photo', 'Status', 'Link', 'SharedVideo'.\r\n",
        "The posts of the type 'Video' has the highest 'Lifetime Negative Feedback'. 'Photo' and 'Link' have the similar amount of 'Lifetime Negative Feedback'"
      ]
    },
    {
      "cell_type": "markdown",
      "metadata": {
        "id": "E3EbHcU4Z-WQ"
      },
      "source": [
        "We use the groupby() method to split the data into groups based on 'Type' and we apply the mean() function to find the average of 'Lifetime People who have liked your Page and engaged with your post' for each group."
      ]
    },
    {
      "cell_type": "code",
      "metadata": {
        "colab": {
          "base_uri": "https://localhost:8080/",
          "height": 196
        },
        "id": "ZnQ4448NPCgu",
        "outputId": "8bc293f6-79a4-48e5-bfa5-f937376af723"
      },
      "source": [
        "grps = df[['Type', 'Lifetime People who have liked your Page and engaged with your post']]\r\n",
        "grps_df = grps.groupby(['Type'], as_index=False).mean()\r\n",
        "grps_df"
      ],
      "execution_count": null,
      "outputs": [
        {
          "output_type": "execute_result",
          "data": {
            "text/html": [
              "<div>\n",
              "<style scoped>\n",
              "    .dataframe tbody tr th:only-of-type {\n",
              "        vertical-align: middle;\n",
              "    }\n",
              "\n",
              "    .dataframe tbody tr th {\n",
              "        vertical-align: top;\n",
              "    }\n",
              "\n",
              "    .dataframe thead th {\n",
              "        text-align: right;\n",
              "    }\n",
              "</style>\n",
              "<table border=\"1\" class=\"dataframe\">\n",
              "  <thead>\n",
              "    <tr style=\"text-align: right;\">\n",
              "      <th></th>\n",
              "      <th>Type</th>\n",
              "      <th>Lifetime People who have liked your Page and engaged with your post</th>\n",
              "    </tr>\n",
              "  </thead>\n",
              "  <tbody>\n",
              "    <tr>\n",
              "      <th>0</th>\n",
              "      <td>Link</td>\n",
              "      <td>35.923077</td>\n",
              "    </tr>\n",
              "    <tr>\n",
              "      <th>1</th>\n",
              "      <td>Photo</td>\n",
              "      <td>100.308511</td>\n",
              "    </tr>\n",
              "    <tr>\n",
              "      <th>2</th>\n",
              "      <td>SharedVideo</td>\n",
              "      <td>51.750000</td>\n",
              "    </tr>\n",
              "    <tr>\n",
              "      <th>3</th>\n",
              "      <td>Status</td>\n",
              "      <td>71.482759</td>\n",
              "    </tr>\n",
              "    <tr>\n",
              "      <th>4</th>\n",
              "      <td>Video</td>\n",
              "      <td>296.285714</td>\n",
              "    </tr>\n",
              "  </tbody>\n",
              "</table>\n",
              "</div>"
            ],
            "text/plain": [
              "          Type  Lifetime People who have liked your Page and engaged with your post\n",
              "0         Link                                          35.923077                  \n",
              "1        Photo                                         100.308511                  \n",
              "2  SharedVideo                                          51.750000                  \n",
              "3       Status                                          71.482759                  \n",
              "4        Video                                         296.285714                  "
            ]
          },
          "metadata": {
            "tags": []
          },
          "execution_count": 142
        }
      ]
    },
    {
      "cell_type": "markdown",
      "metadata": {
        "id": "aWq91zJ8cW3Z"
      },
      "source": [
        "We use the groupby() method to split the data into groups based on 'Type' and we apply the mean() function to find the average of 'Lifetime Post Impressions by people who have liked your Page' for each group."
      ]
    },
    {
      "cell_type": "code",
      "metadata": {
        "colab": {
          "base_uri": "https://localhost:8080/",
          "height": 196
        },
        "id": "mw-cqXX4P0VG",
        "outputId": "e4af0cbf-e120-4c4c-ae0f-7b44a6f882c1"
      },
      "source": [
        "grps = df[['Type', 'Lifetime Post Impressions by people who have liked your Page']]\r\n",
        "grps_df = grps.groupby(['Type'], as_index=False).mean()\r\n",
        "grps_df"
      ],
      "execution_count": null,
      "outputs": [
        {
          "output_type": "execute_result",
          "data": {
            "text/html": [
              "<div>\n",
              "<style scoped>\n",
              "    .dataframe tbody tr th:only-of-type {\n",
              "        vertical-align: middle;\n",
              "    }\n",
              "\n",
              "    .dataframe tbody tr th {\n",
              "        vertical-align: top;\n",
              "    }\n",
              "\n",
              "    .dataframe thead th {\n",
              "        text-align: right;\n",
              "    }\n",
              "</style>\n",
              "<table border=\"1\" class=\"dataframe\">\n",
              "  <thead>\n",
              "    <tr style=\"text-align: right;\">\n",
              "      <th></th>\n",
              "      <th>Type</th>\n",
              "      <th>Lifetime Post Impressions by people who have liked your Page</th>\n",
              "    </tr>\n",
              "  </thead>\n",
              "  <tbody>\n",
              "    <tr>\n",
              "      <th>0</th>\n",
              "      <td>Link</td>\n",
              "      <td>563.538462</td>\n",
              "    </tr>\n",
              "    <tr>\n",
              "      <th>1</th>\n",
              "      <td>Photo</td>\n",
              "      <td>1313.888298</td>\n",
              "    </tr>\n",
              "    <tr>\n",
              "      <th>2</th>\n",
              "      <td>SharedVideo</td>\n",
              "      <td>835.100000</td>\n",
              "    </tr>\n",
              "    <tr>\n",
              "      <th>3</th>\n",
              "      <td>Status</td>\n",
              "      <td>998.620690</td>\n",
              "    </tr>\n",
              "    <tr>\n",
              "      <th>4</th>\n",
              "      <td>Video</td>\n",
              "      <td>3708.178571</td>\n",
              "    </tr>\n",
              "  </tbody>\n",
              "</table>\n",
              "</div>"
            ],
            "text/plain": [
              "          Type  Lifetime Post Impressions by people who have liked your Page\n",
              "0         Link                                         563.538462           \n",
              "1        Photo                                        1313.888298           \n",
              "2  SharedVideo                                         835.100000           \n",
              "3       Status                                         998.620690           \n",
              "4        Video                                        3708.178571           "
            ]
          },
          "metadata": {
            "tags": []
          },
          "execution_count": 143
        }
      ]
    },
    {
      "cell_type": "markdown",
      "metadata": {
        "id": "XHi4Lq_vHXK3"
      },
      "source": [
        "The number of 'Lifetime People who have liked your Page and engaged with your post' and 'Lifetime Post Impressions by people who have liked your Page' both is highest for the type 'Video' and lowest for 'Link'."
      ]
    },
    {
      "cell_type": "markdown",
      "metadata": {
        "id": "qns7MWNhcvfO"
      },
      "source": [
        "We use the function regplot in the seaborn library to determine if the feature 'Lifetime Matched Audience Targeting Consumptions on Post' is negatively or positively correlated with 'Lifetime Organic Video Views'."
      ]
    },
    {
      "cell_type": "code",
      "metadata": {
        "colab": {
          "base_uri": "https://localhost:8080/",
          "height": 390
        },
        "id": "TzJTIP036HNY",
        "outputId": "def65951-3e1e-4da7-ae2b-705d598d7151"
      },
      "source": [
        "plt.figure(figsize = (10,6))\r\n",
        "sns.regplot(x = 'Lifetime Matched Audience Targeting Consumptions on Post', y = 'Lifetime Organic Video Views', data = df)\r\n",
        "plt.show()"
      ],
      "execution_count": null,
      "outputs": [
        {
          "output_type": "display_data",
          "data": {
            "image/png": "[encoded data removed]",
            "text/plain": [
              "<Figure size 720x432 with 1 Axes>"
            ]
          },
          "metadata": {
            "tags": [],
            "needs_background": "light"
          }
        }
      ]
    },
    {
      "cell_type": "markdown",
      "metadata": {
        "id": "MnRXL9V7HjHT"
      },
      "source": [
        "There is some positive correlation between 'Lifetime Matched Audience Targeting Consumptions on Post' and 'Lifetime Organic Video Views'."
      ]
    },
    {
      "cell_type": "markdown",
      "metadata": {
        "id": "vWVlwmIldHfg"
      },
      "source": [
        "We use the function regplot in the seaborn library to determine if the feature 'Lifetime Matched Audience Targeting Consumers on Post' is negatively or positively correlated with 'Lifetime Post Total Impressions'."
      ]
    },
    {
      "cell_type": "code",
      "metadata": {
        "colab": {
          "base_uri": "https://localhost:8080/",
          "height": 497
        },
        "id": "G1s2hvpBWr6m",
        "outputId": "8ba7e472-5ad1-492c-c80d-cdd2190e2fad"
      },
      "source": [
        "plt.figure(figsize = (12,8))\r\n",
        "sns.regplot(x = 'Lifetime Matched Audience Targeting Consumers on Post', y = 'Lifetime Post Total Impressions', data = df)\r\n",
        "plt.show()"
      ],
      "execution_count": null,
      "outputs": [
        {
          "output_type": "display_data",
          "data": {
            "image/png": "[encoded data removed]",
            "text/plain": [
              "<Figure size 864x576 with 1 Axes>"
            ]
          },
          "metadata": {
            "tags": [],
            "needs_background": "light"
          }
        }
      ]
    },
    {
      "cell_type": "markdown",
      "metadata": {
        "id": "UUp_L1xEHn-d"
      },
      "source": [
        "There is some positive correlation between 'Lifetime Matched Audience Targeting Consumers on Post' and 'Lifetime Post Total Impressions'."
      ]
    },
    {
      "cell_type": "markdown",
      "metadata": {
        "id": "edfjSKDmjaLE"
      },
      "source": [
        "We split the column 'Posted' of the datetime type into day, month, year, hour and weekday and drop the column 'Posted'"
      ]
    },
    {
      "cell_type": "code",
      "metadata": {
        "id": "1y6b3xaaCaMH"
      },
      "source": [
        "df[\"Day\"] = df[\"Posted\"].dt.day\r\n",
        "df[\"Month\"] = df[\"Posted\"].dt.month\r\n",
        "df[\"Year\"] = df[\"Posted\"].dt.year\r\n",
        "df[\"Hour\"] = df[\"Posted\"].dt.hour\r\n",
        "df[\"Weekday\"] = df[\"Posted\"].dt.weekday\r\n",
        "df.drop(\"Posted\", axis = 1, inplace = True)"
      ],
      "execution_count": null,
      "outputs": []
    },
    {
      "cell_type": "code",
      "metadata": {
        "colab": {
          "base_uri": "https://localhost:8080/",
          "height": 367
        },
        "id": "XXlJRANLEFDV",
        "outputId": "e029dc67-64d2-4951-e4bb-0038deaeaddb"
      },
      "source": [
        "df.head()"
      ],
      "execution_count": null,
      "outputs": [
        {
          "output_type": "execute_result",
          "data": {
            "text/html": [
              "<div>\n",
              "<style scoped>\n",
              "    .dataframe tbody tr th:only-of-type {\n",
              "        vertical-align: middle;\n",
              "    }\n",
              "\n",
              "    .dataframe tbody tr th {\n",
              "        vertical-align: top;\n",
              "    }\n",
              "\n",
              "    .dataframe thead th {\n",
              "        text-align: right;\n",
              "    }\n",
              "</style>\n",
              "<table border=\"1\" class=\"dataframe\">\n",
              "  <thead>\n",
              "    <tr style=\"text-align: right;\">\n",
              "      <th></th>\n",
              "      <th>Type</th>\n",
              "      <th>Lifetime Post Total Reach</th>\n",
              "      <th>Lifetime Post Total Impressions</th>\n",
              "      <th>Lifetime Engaged Users</th>\n",
              "      <th>Lifetime Matched Audience Targeting Consumers on Post</th>\n",
              "      <th>Lifetime Matched Audience Targeting Consumptions on Post</th>\n",
              "      <th>Lifetime Negative Feedback from Users</th>\n",
              "      <th>Lifetime Negative Feedback</th>\n",
              "      <th>Lifetime Post Impressions by people who have liked your Page</th>\n",
              "      <th>Lifetime Post reach by people who like your Page</th>\n",
              "      <th>Lifetime People who have liked your Page and engaged with your post</th>\n",
              "      <th>Lifetime Organic views to 95%</th>\n",
              "      <th>Lifetime Organic views to 95%.1</th>\n",
              "      <th>Lifetime Organic Video Views</th>\n",
              "      <th>Lifetime Organic Video Views.1</th>\n",
              "      <th>Lifetime Average time video viewed</th>\n",
              "      <th>Lifetime Video length</th>\n",
              "      <th>Day</th>\n",
              "      <th>Month</th>\n",
              "      <th>Year</th>\n",
              "      <th>Hour</th>\n",
              "      <th>Weekday</th>\n",
              "    </tr>\n",
              "  </thead>\n",
              "  <tbody>\n",
              "    <tr>\n",
              "      <th>0</th>\n",
              "      <td>Photo</td>\n",
              "      <td>2</td>\n",
              "      <td>2</td>\n",
              "      <td>0</td>\n",
              "      <td>0</td>\n",
              "      <td>0</td>\n",
              "      <td>0</td>\n",
              "      <td>0</td>\n",
              "      <td>2</td>\n",
              "      <td>2</td>\n",
              "      <td>0</td>\n",
              "      <td>0</td>\n",
              "      <td>0</td>\n",
              "      <td>0</td>\n",
              "      <td>0</td>\n",
              "      <td>0</td>\n",
              "      <td>0</td>\n",
              "      <td>22</td>\n",
              "      <td>6</td>\n",
              "      <td>2018</td>\n",
              "      <td>7</td>\n",
              "      <td>4</td>\n",
              "    </tr>\n",
              "    <tr>\n",
              "      <th>1</th>\n",
              "      <td>Video</td>\n",
              "      <td>1556</td>\n",
              "      <td>3125</td>\n",
              "      <td>148</td>\n",
              "      <td>98</td>\n",
              "      <td>158</td>\n",
              "      <td>0</td>\n",
              "      <td>0</td>\n",
              "      <td>2119</td>\n",
              "      <td>1001</td>\n",
              "      <td>108</td>\n",
              "      <td>72</td>\n",
              "      <td>93</td>\n",
              "      <td>389</td>\n",
              "      <td>500</td>\n",
              "      <td>5035</td>\n",
              "      <td>24355</td>\n",
              "      <td>15</td>\n",
              "      <td>6</td>\n",
              "      <td>2018</td>\n",
              "      <td>13</td>\n",
              "      <td>4</td>\n",
              "    </tr>\n",
              "    <tr>\n",
              "      <th>2</th>\n",
              "      <td>Photo</td>\n",
              "      <td>2</td>\n",
              "      <td>2</td>\n",
              "      <td>0</td>\n",
              "      <td>0</td>\n",
              "      <td>0</td>\n",
              "      <td>0</td>\n",
              "      <td>0</td>\n",
              "      <td>2</td>\n",
              "      <td>2</td>\n",
              "      <td>0</td>\n",
              "      <td>0</td>\n",
              "      <td>0</td>\n",
              "      <td>0</td>\n",
              "      <td>0</td>\n",
              "      <td>0</td>\n",
              "      <td>0</td>\n",
              "      <td>15</td>\n",
              "      <td>6</td>\n",
              "      <td>2018</td>\n",
              "      <td>6</td>\n",
              "      <td>4</td>\n",
              "    </tr>\n",
              "    <tr>\n",
              "      <th>3</th>\n",
              "      <td>Photo</td>\n",
              "      <td>1</td>\n",
              "      <td>1</td>\n",
              "      <td>0</td>\n",
              "      <td>0</td>\n",
              "      <td>0</td>\n",
              "      <td>0</td>\n",
              "      <td>0</td>\n",
              "      <td>1</td>\n",
              "      <td>1</td>\n",
              "      <td>0</td>\n",
              "      <td>0</td>\n",
              "      <td>0</td>\n",
              "      <td>0</td>\n",
              "      <td>0</td>\n",
              "      <td>0</td>\n",
              "      <td>0</td>\n",
              "      <td>12</td>\n",
              "      <td>6</td>\n",
              "      <td>2018</td>\n",
              "      <td>11</td>\n",
              "      <td>1</td>\n",
              "    </tr>\n",
              "    <tr>\n",
              "      <th>4</th>\n",
              "      <td>Photo</td>\n",
              "      <td>2</td>\n",
              "      <td>2</td>\n",
              "      <td>0</td>\n",
              "      <td>0</td>\n",
              "      <td>0</td>\n",
              "      <td>0</td>\n",
              "      <td>0</td>\n",
              "      <td>1</td>\n",
              "      <td>1</td>\n",
              "      <td>0</td>\n",
              "      <td>0</td>\n",
              "      <td>0</td>\n",
              "      <td>0</td>\n",
              "      <td>0</td>\n",
              "      <td>0</td>\n",
              "      <td>0</td>\n",
              "      <td>10</td>\n",
              "      <td>6</td>\n",
              "      <td>2018</td>\n",
              "      <td>8</td>\n",
              "      <td>6</td>\n",
              "    </tr>\n",
              "  </tbody>\n",
              "</table>\n",
              "</div>"
            ],
            "text/plain": [
              "    Type  Lifetime Post Total Reach  ...  Hour  Weekday\n",
              "0  Photo                          2  ...     7        4\n",
              "1  Video                       1556  ...    13        4\n",
              "2  Photo                          2  ...     6        4\n",
              "3  Photo                          1  ...    11        1\n",
              "4  Photo                          2  ...     8        6\n",
              "\n",
              "[5 rows x 22 columns]"
            ]
          },
          "metadata": {
            "tags": []
          },
          "execution_count": 147
        }
      ]
    },
    {
      "cell_type": "markdown",
      "metadata": {
        "id": "x7i8PNOylAHF"
      },
      "source": [
        "We use bargraphs to understand the distribution of 'Lifetime Post Total Reach' and 'Lifetime Average time video viewed' over each day of the week."
      ]
    },
    {
      "cell_type": "code",
      "metadata": {
        "colab": {
          "base_uri": "https://localhost:8080/",
          "height": 759
        },
        "id": "gM6m6yNdYbst",
        "outputId": "d1287471-90d0-422e-860b-0dcd906492e4"
      },
      "source": [
        "plt.figure(figsize = (10,6))\r\n",
        "plt.bar(df['Weekday'], df['Lifetime Post Total Reach'])\r\n",
        "plt.xlabel(\"Weekday\")\r\n",
        "plt.ylabel(\"Lifetime Post Total Reach\")\r\n",
        "plt.show()\r\n",
        "plt.figure(figsize = (10,6))\r\n",
        "plt.bar(df['Weekday'], df['Lifetime Average time video viewed'])\r\n",
        "plt.xlabel(\"Weekday\")\r\n",
        "plt.ylabel(\"Lifetime Average time video viewed\")\r\n",
        "plt.show()"
      ],
      "execution_count": null,
      "outputs": [
        {
          "output_type": "display_data",
          "data": {
            "image/png": "[encoded data removed]",
            "text/plain": [
              "<Figure size 720x432 with 1 Axes>"
            ]
          },
          "metadata": {
            "tags": [],
            "needs_background": "light"
          }
        },
        {
          "output_type": "display_data",
          "data": {
            "image/png": "[encoded data removed]",
            "text/plain": [
              "<Figure size 720x432 with 1 Axes>"
            ]
          },
          "metadata": {
            "tags": [],
            "needs_background": "light"
          }
        }
      ]
    },
    {
      "cell_type": "markdown",
      "metadata": {
        "id": "3PFxHMZGHt9R"
      },
      "source": [
        "The number of 'Lifetime Post Total Reach' and 'Lifetime Average time video viewed' is highest on Tuesday. 'Lifetime Average time video viewed' is 0 on Wednesday."
      ]
    },
    {
      "cell_type": "markdown",
      "metadata": {
        "id": "7QuL6NQeliwd"
      },
      "source": [
        "We use bargraphs to understand the distribution of 'Lifetime Post Total Impressions' over each day of the month."
      ]
    },
    {
      "cell_type": "code",
      "metadata": {
        "colab": {
          "base_uri": "https://localhost:8080/",
          "height": 388
        },
        "id": "iiFdHQdtujQI",
        "outputId": "0fb8de61-4a05-444d-cc08-a6ec1f7daccb"
      },
      "source": [
        "plt.figure(figsize = (10,6))\r\n",
        "plt.bar(df['Day'], df['Lifetime Post Total Impressions'])\r\n",
        "plt.xlabel(\"Day\")\r\n",
        "plt.ylabel(\"Lifetime Post Total Impressions\")\r\n",
        "plt.show()"
      ],
      "execution_count": null,
      "outputs": [
        {
          "output_type": "display_data",
          "data": {
            "image/png": "[encoded data removed]",
            "text/plain": [
              "<Figure size 720x432 with 1 Axes>"
            ]
          },
          "metadata": {
            "tags": [],
            "needs_background": "light"
          }
        }
      ]
    },
    {
      "cell_type": "markdown",
      "metadata": {
        "id": "QnP6JyqPH0qA"
      },
      "source": [
        "The number of 'Lifetime Post Total Impressions' are consistent over a month."
      ]
    },
    {
      "cell_type": "markdown",
      "metadata": {
        "id": "pbhyivVOlxXO"
      },
      "source": [
        "We use bargraphs to understand the distribution of 'Lifetime Engaged Users' and 'Lifetime Negative Feedback from Users' over each hour in a day."
      ]
    },
    {
      "cell_type": "code",
      "metadata": {
        "colab": {
          "base_uri": "https://localhost:8080/",
          "height": 759
        },
        "id": "HtMI7QLBwtRo",
        "outputId": "ea4f1129-eb2f-453a-e145-4150fd0ef4c4"
      },
      "source": [
        "plt.figure(figsize = (10,6))\r\n",
        "plt.bar(df['Hour'], df['Lifetime Engaged Users'])\r\n",
        "plt.xlabel(\"Hour\")\r\n",
        "plt.ylabel(\"Lifetime Engaged Users\")\r\n",
        "plt.show()\r\n",
        "plt.figure(figsize = (10,6))\r\n",
        "plt.bar(df['Hour'], df['Lifetime Negative Feedback from Users'])\r\n",
        "plt.xlabel(\"Hour\")\r\n",
        "plt.ylabel(\"Lifetime Negative Feedback from Users\")\r\n",
        "plt.show()"
      ],
      "execution_count": null,
      "outputs": [
        {
          "output_type": "display_data",
          "data": {
            "image/png": "[encoded data removed]",
            "text/plain": [
              "<Figure size 720x432 with 1 Axes>"
            ]
          },
          "metadata": {
            "tags": [],
            "needs_background": "light"
          }
        },
        {
          "output_type": "display_data",
          "data": {
            "image/png": "[encoded data removed]",
            "text/plain": [
              "<Figure size 720x432 with 1 Axes>"
            ]
          },
          "metadata": {
            "tags": [],
            "needs_background": "light"
          }
        }
      ]
    },
    {
      "cell_type": "markdown",
      "metadata": {
        "id": "YcrQ9b-yH_Nx"
      },
      "source": [
        "The number of 'Lifetime Engaged Users' and 'Lifetime Negative Feedback from Users' is lower during the last 12 hours of the day."
      ]
    },
    {
      "cell_type": "markdown",
      "metadata": {
        "id": "Oh8Ki7uumeuA"
      },
      "source": [
        "The csv file is loaded using Pandas read_csv() method."
      ]
    },
    {
      "cell_type": "code",
      "metadata": {
        "colab": {
          "base_uri": "https://localhost:8080/",
          "height": 597
        },
        "id": "Y914PFHtHF5g",
        "outputId": "3ef8efc9-126c-4c97-beb7-eed1a1a06644"
      },
      "source": [
        "df1 = pd.read_csv(\"/content/insight_001.csv\")\r\n",
        "df1.head()"
      ],
      "execution_count": null,
      "outputs": [
        {
          "output_type": "execute_result",
          "data": {
            "text/html": [
              "<div>\n",
              "<style scoped>\n",
              "    .dataframe tbody tr th:only-of-type {\n",
              "        vertical-align: middle;\n",
              "    }\n",
              "\n",
              "    .dataframe tbody tr th {\n",
              "        vertical-align: top;\n",
              "    }\n",
              "\n",
              "    .dataframe thead th {\n",
              "        text-align: right;\n",
              "    }\n",
              "</style>\n",
              "<table border=\"1\" class=\"dataframe\">\n",
              "  <thead>\n",
              "    <tr style=\"text-align: right;\">\n",
              "      <th></th>\n",
              "      <th>Date</th>\n",
              "      <th>Lifetime Total Likes</th>\n",
              "      <th>Daily New Likes</th>\n",
              "      <th>Daily Unlikes</th>\n",
              "      <th>Daily Page Engaged Users</th>\n",
              "      <th>Weekly Page Engaged Users</th>\n",
              "      <th>28 Days Page Engaged Users</th>\n",
              "      <th>Daily Total Reach</th>\n",
              "      <th>Weekly Total Reach</th>\n",
              "      <th>28 Days Total Reach</th>\n",
              "      <th>Daily Organic Reach</th>\n",
              "      <th>Weekly Organic Reach</th>\n",
              "      <th>28 Days Organic Reach</th>\n",
              "      <th>Daily Paid Reach</th>\n",
              "      <th>Weekly Paid Reach</th>\n",
              "      <th>28 Days Paid Reach</th>\n",
              "      <th>Daily Viral Reach</th>\n",
              "      <th>Weekly Viral Reach</th>\n",
              "      <th>28 Days Viral Reach</th>\n",
              "      <th>Daily Total Impressions</th>\n",
              "      <th>Weekly Total Impressions</th>\n",
              "      <th>28 Days Total Impressions</th>\n",
              "      <th>Daily Organic impressions</th>\n",
              "      <th>Weekly Organic impressions</th>\n",
              "      <th>28 Days Organic impressions</th>\n",
              "      <th>Daily Paid Impressions</th>\n",
              "      <th>Weekly Paid Impressions</th>\n",
              "      <th>28 Days Paid Impressions</th>\n",
              "      <th>Daily Viral impressions</th>\n",
              "      <th>Weekly Viral impressions</th>\n",
              "      <th>28 Days Viral impressions</th>\n",
              "      <th>Daily Logged-in Page Views</th>\n",
              "      <th>Weekly Logged-in Page Views</th>\n",
              "      <th>Daily Logged-in Page Views.1</th>\n",
              "      <th>Weekly Logged-in Page Views.1</th>\n",
              "      <th>Daily Reach Of Page Posts</th>\n",
              "      <th>Weekly Reach Of Page Posts</th>\n",
              "      <th>28 Days Reach Of Page Posts</th>\n",
              "      <th>Daily Organic Reach of Page posts</th>\n",
              "      <th>Weekly Organic Reach of Page posts</th>\n",
              "      <th>...</th>\n",
              "      <th>Daily Total web site click count per Page by age and gender - 45-54.U</th>\n",
              "      <th>Daily Total web site click count per Page by age and gender - 55-64.F</th>\n",
              "      <th>Daily Total web site click count per Page by age and gender - 55-64.M</th>\n",
              "      <th>Daily Total web site click count per Page by age and gender - 55-64.U</th>\n",
              "      <th>Daily Total web site click count per Page by age and gender - 65+.F</th>\n",
              "      <th>Daily Total web site click count per Page by age and gender - 65+.M</th>\n",
              "      <th>Daily Total web site click count per Page by age and gender - 65+.U</th>\n",
              "      <th>Daily Total web site click count per Page by age and gender - &amp;lt;13.F</th>\n",
              "      <th>Daily Total web site click count per Page by age and gender - &amp;lt;13.M</th>\n",
              "      <th>Daily Total web site click count per Page by age and gender - &amp;lt;13.U</th>\n",
              "      <th>Daily Total web site click count per Page by age and gender - UNKNOWN.F</th>\n",
              "      <th>Daily Total web site click count per Page by age and gender - UNKNOWN.M</th>\n",
              "      <th>Daily Total web site click count per Page by age and gender - UNKNOWN.U</th>\n",
              "      <th>Weekly Total web site click count per Page by age and gender - 13-17.F</th>\n",
              "      <th>Weekly Total web site click count per Page by age and gender - 13-17.M</th>\n",
              "      <th>Weekly Total web site click count per Page by age and gender - 13-17.U</th>\n",
              "      <th>Weekly Total web site click count per Page by age and gender - 18-24.F</th>\n",
              "      <th>Weekly Total web site click count per Page by age and gender - 18-24.M</th>\n",
              "      <th>Weekly Total web site click count per Page by age and gender - 18-24.U</th>\n",
              "      <th>Weekly Total web site click count per Page by age and gender - 25-34.F</th>\n",
              "      <th>Weekly Total web site click count per Page by age and gender - 25-34.M</th>\n",
              "      <th>Weekly Total web site click count per Page by age and gender - 25-34.U</th>\n",
              "      <th>Weekly Total web site click count per Page by age and gender - 35-44.F</th>\n",
              "      <th>Weekly Total web site click count per Page by age and gender - 35-44.M</th>\n",
              "      <th>Weekly Total web site click count per Page by age and gender - 35-44.U</th>\n",
              "      <th>Weekly Total web site click count per Page by age and gender - 45-54.F</th>\n",
              "      <th>Weekly Total web site click count per Page by age and gender - 45-54.M</th>\n",
              "      <th>Weekly Total web site click count per Page by age and gender - 45-54.U</th>\n",
              "      <th>Weekly Total web site click count per Page by age and gender - 55-64.F</th>\n",
              "      <th>Weekly Total web site click count per Page by age and gender - 55-64.M</th>\n",
              "      <th>Weekly Total web site click count per Page by age and gender - 55-64.U</th>\n",
              "      <th>Weekly Total web site click count per Page by age and gender - 65+.F</th>\n",
              "      <th>Weekly Total web site click count per Page by age and gender - 65+.M</th>\n",
              "      <th>Weekly Total web site click count per Page by age and gender - 65+.U</th>\n",
              "      <th>Weekly Total web site click count per Page by age and gender - &amp;lt;13.F</th>\n",
              "      <th>Weekly Total web site click count per Page by age and gender - &amp;lt;13.M</th>\n",
              "      <th>Weekly Total web site click count per Page by age and gender - &amp;lt;13.U</th>\n",
              "      <th>Weekly Total web site click count per Page by age and gender - UNKNOWN.F</th>\n",
              "      <th>Weekly Total web site click count per Page by age and gender - UNKNOWN.M</th>\n",
              "      <th>Weekly Total web site click count per Page by age and gender - UNKNOWN.U</th>\n",
              "    </tr>\n",
              "  </thead>\n",
              "  <tbody>\n",
              "    <tr>\n",
              "      <th>0</th>\n",
              "      <td>NaN</td>\n",
              "      <td>Lifetime: The total number of people who have ...</td>\n",
              "      <td>Daily: The number of new people who have liked...</td>\n",
              "      <td>Daily: The number of Unlikes of your Page (Uni...</td>\n",
              "      <td>Daily: The number of people who engaged with y...</td>\n",
              "      <td>Weekly: The number of people who engaged with ...</td>\n",
              "      <td>28 Days: The number of people who engaged with...</td>\n",
              "      <td>Daily: The number of people who had any conten...</td>\n",
              "      <td>Weekly: The number of people who had any conte...</td>\n",
              "      <td>28 Days: The number of people who had any cont...</td>\n",
              "      <td>Daily: The number of people who had any conten...</td>\n",
              "      <td>Weekly: The number of people who had any conte...</td>\n",
              "      <td>28 Days: The number of people who had any cont...</td>\n",
              "      <td>Daily: The number of people who had any conten...</td>\n",
              "      <td>Weekly: The number of people who had any conte...</td>\n",
              "      <td>28 Days: The number of people who had any cont...</td>\n",
              "      <td>Daily:  The number of people who had any conte...</td>\n",
              "      <td>Weekly:  The number of people who had any cont...</td>\n",
              "      <td>28 Days:  The number of people who had any con...</td>\n",
              "      <td>Daily: The number of times any content from yo...</td>\n",
              "      <td>Weekly: The number of times any content from y...</td>\n",
              "      <td>28 Days: The number of times any content from ...</td>\n",
              "      <td>Daily: The number of times any content from yo...</td>\n",
              "      <td>Weekly: The number of times any content from y...</td>\n",
              "      <td>28 Days: The number of times any content from ...</td>\n",
              "      <td>Daily: The number of times any content from yo...</td>\n",
              "      <td>Weekly: The number of times any content from y...</td>\n",
              "      <td>28 Days: The number of times any content from ...</td>\n",
              "      <td>Daily: The number of times any content from yo...</td>\n",
              "      <td>Weekly: The number of times any content from y...</td>\n",
              "      <td>28 Days: The number of times any content from ...</td>\n",
              "      <td>Daily: Page Views from users logged into Faceb...</td>\n",
              "      <td>Weekly: Page Views from users logged into Face...</td>\n",
              "      <td>Daily: Page Views from users logged into Faceb...</td>\n",
              "      <td>Weekly: Page Views from users logged into Face...</td>\n",
              "      <td>Daily: The number of people who had any of you...</td>\n",
              "      <td>Weekly: The number of people who had any of yo...</td>\n",
              "      <td>28 Days: The number of people who had any of y...</td>\n",
              "      <td>Daily: The number of people who had any of you...</td>\n",
              "      <td>Weekly: The number of people who had any of yo...</td>\n",
              "      <td>...</td>\n",
              "      <td>NaN</td>\n",
              "      <td>NaN</td>\n",
              "      <td>NaN</td>\n",
              "      <td>NaN</td>\n",
              "      <td>NaN</td>\n",
              "      <td>NaN</td>\n",
              "      <td>NaN</td>\n",
              "      <td>NaN</td>\n",
              "      <td>NaN</td>\n",
              "      <td>NaN</td>\n",
              "      <td>NaN</td>\n",
              "      <td>NaN</td>\n",
              "      <td>NaN</td>\n",
              "      <td>Weekly: Total web site click count per Page by...</td>\n",
              "      <td>NaN</td>\n",
              "      <td>NaN</td>\n",
              "      <td>NaN</td>\n",
              "      <td>NaN</td>\n",
              "      <td>NaN</td>\n",
              "      <td>NaN</td>\n",
              "      <td>NaN</td>\n",
              "      <td>NaN</td>\n",
              "      <td>NaN</td>\n",
              "      <td>NaN</td>\n",
              "      <td>NaN</td>\n",
              "      <td>NaN</td>\n",
              "      <td>NaN</td>\n",
              "      <td>NaN</td>\n",
              "      <td>NaN</td>\n",
              "      <td>NaN</td>\n",
              "      <td>NaN</td>\n",
              "      <td>NaN</td>\n",
              "      <td>NaN</td>\n",
              "      <td>NaN</td>\n",
              "      <td>NaN</td>\n",
              "      <td>NaN</td>\n",
              "      <td>NaN</td>\n",
              "      <td>NaN</td>\n",
              "      <td>NaN</td>\n",
              "      <td>NaN</td>\n",
              "    </tr>\n",
              "    <tr>\n",
              "      <th>1</th>\n",
              "      <td>2/7/2021</td>\n",
              "      <td>9239</td>\n",
              "      <td>3</td>\n",
              "      <td>2</td>\n",
              "      <td>29</td>\n",
              "      <td>928</td>\n",
              "      <td>4219</td>\n",
              "      <td>921</td>\n",
              "      <td>8867</td>\n",
              "      <td>31929</td>\n",
              "      <td>918</td>\n",
              "      <td>8855</td>\n",
              "      <td>31908</td>\n",
              "      <td>NaN</td>\n",
              "      <td>NaN</td>\n",
              "      <td>NaN</td>\n",
              "      <td>813</td>\n",
              "      <td>6408</td>\n",
              "      <td>28265</td>\n",
              "      <td>1492</td>\n",
              "      <td>22473</td>\n",
              "      <td>163733</td>\n",
              "      <td>1456</td>\n",
              "      <td>21967</td>\n",
              "      <td>158254</td>\n",
              "      <td>NaN</td>\n",
              "      <td>NaN</td>\n",
              "      <td>NaN</td>\n",
              "      <td>1258</td>\n",
              "      <td>11841</td>\n",
              "      <td>113623</td>\n",
              "      <td>36</td>\n",
              "      <td>553</td>\n",
              "      <td>24</td>\n",
              "      <td>253</td>\n",
              "      <td>918</td>\n",
              "      <td>8855</td>\n",
              "      <td>31908</td>\n",
              "      <td>918</td>\n",
              "      <td>8855</td>\n",
              "      <td>...</td>\n",
              "      <td>0.0</td>\n",
              "      <td>0.0</td>\n",
              "      <td>0.0</td>\n",
              "      <td>0.0</td>\n",
              "      <td>0.0</td>\n",
              "      <td>0.0</td>\n",
              "      <td>0.0</td>\n",
              "      <td>0.0</td>\n",
              "      <td>0.0</td>\n",
              "      <td>0.0</td>\n",
              "      <td>0.0</td>\n",
              "      <td>0.0</td>\n",
              "      <td>0.0</td>\n",
              "      <td>0</td>\n",
              "      <td>0.0</td>\n",
              "      <td>0.0</td>\n",
              "      <td>0.0</td>\n",
              "      <td>0.0</td>\n",
              "      <td>0.0</td>\n",
              "      <td>0.0</td>\n",
              "      <td>0.0</td>\n",
              "      <td>0.0</td>\n",
              "      <td>0.0</td>\n",
              "      <td>0.0</td>\n",
              "      <td>0.0</td>\n",
              "      <td>0.0</td>\n",
              "      <td>0.0</td>\n",
              "      <td>0.0</td>\n",
              "      <td>0.0</td>\n",
              "      <td>0.0</td>\n",
              "      <td>0.0</td>\n",
              "      <td>0.0</td>\n",
              "      <td>0.0</td>\n",
              "      <td>0.0</td>\n",
              "      <td>0.0</td>\n",
              "      <td>0.0</td>\n",
              "      <td>0.0</td>\n",
              "      <td>0.0</td>\n",
              "      <td>0.0</td>\n",
              "      <td>0.0</td>\n",
              "    </tr>\n",
              "    <tr>\n",
              "      <th>2</th>\n",
              "      <td>2/8/2021</td>\n",
              "      <td>9241</td>\n",
              "      <td>3</td>\n",
              "      <td>2</td>\n",
              "      <td>22</td>\n",
              "      <td>872</td>\n",
              "      <td>4046</td>\n",
              "      <td>556</td>\n",
              "      <td>8784</td>\n",
              "      <td>31373</td>\n",
              "      <td>553</td>\n",
              "      <td>8778</td>\n",
              "      <td>31353</td>\n",
              "      <td>NaN</td>\n",
              "      <td>NaN</td>\n",
              "      <td>NaN</td>\n",
              "      <td>489</td>\n",
              "      <td>6404</td>\n",
              "      <td>27653</td>\n",
              "      <td>1124</td>\n",
              "      <td>19793</td>\n",
              "      <td>158841</td>\n",
              "      <td>1093</td>\n",
              "      <td>19332</td>\n",
              "      <td>153762</td>\n",
              "      <td>NaN</td>\n",
              "      <td>NaN</td>\n",
              "      <td>NaN</td>\n",
              "      <td>895</td>\n",
              "      <td>11481</td>\n",
              "      <td>110135</td>\n",
              "      <td>35</td>\n",
              "      <td>508</td>\n",
              "      <td>25</td>\n",
              "      <td>230</td>\n",
              "      <td>553</td>\n",
              "      <td>8778</td>\n",
              "      <td>31353</td>\n",
              "      <td>553</td>\n",
              "      <td>8778</td>\n",
              "      <td>...</td>\n",
              "      <td>0.0</td>\n",
              "      <td>0.0</td>\n",
              "      <td>0.0</td>\n",
              "      <td>0.0</td>\n",
              "      <td>0.0</td>\n",
              "      <td>0.0</td>\n",
              "      <td>0.0</td>\n",
              "      <td>0.0</td>\n",
              "      <td>0.0</td>\n",
              "      <td>0.0</td>\n",
              "      <td>0.0</td>\n",
              "      <td>0.0</td>\n",
              "      <td>0.0</td>\n",
              "      <td>0</td>\n",
              "      <td>0.0</td>\n",
              "      <td>0.0</td>\n",
              "      <td>0.0</td>\n",
              "      <td>0.0</td>\n",
              "      <td>0.0</td>\n",
              "      <td>0.0</td>\n",
              "      <td>0.0</td>\n",
              "      <td>0.0</td>\n",
              "      <td>0.0</td>\n",
              "      <td>0.0</td>\n",
              "      <td>0.0</td>\n",
              "      <td>0.0</td>\n",
              "      <td>0.0</td>\n",
              "      <td>0.0</td>\n",
              "      <td>0.0</td>\n",
              "      <td>0.0</td>\n",
              "      <td>0.0</td>\n",
              "      <td>0.0</td>\n",
              "      <td>0.0</td>\n",
              "      <td>0.0</td>\n",
              "      <td>0.0</td>\n",
              "      <td>0.0</td>\n",
              "      <td>0.0</td>\n",
              "      <td>0.0</td>\n",
              "      <td>0.0</td>\n",
              "      <td>0.0</td>\n",
              "    </tr>\n",
              "    <tr>\n",
              "      <th>3</th>\n",
              "      <td>2/9/2021</td>\n",
              "      <td>9241</td>\n",
              "      <td>1</td>\n",
              "      <td>NaN</td>\n",
              "      <td>91</td>\n",
              "      <td>584</td>\n",
              "      <td>3954</td>\n",
              "      <td>2240</td>\n",
              "      <td>7717</td>\n",
              "      <td>30984</td>\n",
              "      <td>2240</td>\n",
              "      <td>7712</td>\n",
              "      <td>30964</td>\n",
              "      <td>NaN</td>\n",
              "      <td>NaN</td>\n",
              "      <td>NaN</td>\n",
              "      <td>1679</td>\n",
              "      <td>6329</td>\n",
              "      <td>27266</td>\n",
              "      <td>3347</td>\n",
              "      <td>16555</td>\n",
              "      <td>154893</td>\n",
              "      <td>3296</td>\n",
              "      <td>16155</td>\n",
              "      <td>149945</td>\n",
              "      <td>NaN</td>\n",
              "      <td>NaN</td>\n",
              "      <td>NaN</td>\n",
              "      <td>2338</td>\n",
              "      <td>11771</td>\n",
              "      <td>106147</td>\n",
              "      <td>55</td>\n",
              "      <td>438</td>\n",
              "      <td>34</td>\n",
              "      <td>200</td>\n",
              "      <td>2240</td>\n",
              "      <td>7712</td>\n",
              "      <td>30964</td>\n",
              "      <td>2240</td>\n",
              "      <td>7712</td>\n",
              "      <td>...</td>\n",
              "      <td>0.0</td>\n",
              "      <td>0.0</td>\n",
              "      <td>0.0</td>\n",
              "      <td>0.0</td>\n",
              "      <td>0.0</td>\n",
              "      <td>0.0</td>\n",
              "      <td>0.0</td>\n",
              "      <td>0.0</td>\n",
              "      <td>0.0</td>\n",
              "      <td>0.0</td>\n",
              "      <td>0.0</td>\n",
              "      <td>0.0</td>\n",
              "      <td>0.0</td>\n",
              "      <td>0</td>\n",
              "      <td>0.0</td>\n",
              "      <td>0.0</td>\n",
              "      <td>0.0</td>\n",
              "      <td>0.0</td>\n",
              "      <td>0.0</td>\n",
              "      <td>0.0</td>\n",
              "      <td>0.0</td>\n",
              "      <td>0.0</td>\n",
              "      <td>0.0</td>\n",
              "      <td>0.0</td>\n",
              "      <td>0.0</td>\n",
              "      <td>0.0</td>\n",
              "      <td>0.0</td>\n",
              "      <td>0.0</td>\n",
              "      <td>0.0</td>\n",
              "      <td>0.0</td>\n",
              "      <td>0.0</td>\n",
              "      <td>0.0</td>\n",
              "      <td>0.0</td>\n",
              "      <td>0.0</td>\n",
              "      <td>0.0</td>\n",
              "      <td>0.0</td>\n",
              "      <td>0.0</td>\n",
              "      <td>0.0</td>\n",
              "      <td>0.0</td>\n",
              "      <td>0.0</td>\n",
              "    </tr>\n",
              "    <tr>\n",
              "      <th>4</th>\n",
              "      <td>2/10/2021</td>\n",
              "      <td>9243</td>\n",
              "      <td>3</td>\n",
              "      <td>1</td>\n",
              "      <td>19</td>\n",
              "      <td>473</td>\n",
              "      <td>3294</td>\n",
              "      <td>616</td>\n",
              "      <td>7235</td>\n",
              "      <td>28830</td>\n",
              "      <td>615</td>\n",
              "      <td>7231</td>\n",
              "      <td>28813</td>\n",
              "      <td>NaN</td>\n",
              "      <td>NaN</td>\n",
              "      <td>NaN</td>\n",
              "      <td>547</td>\n",
              "      <td>6065</td>\n",
              "      <td>25055</td>\n",
              "      <td>1179</td>\n",
              "      <td>15569</td>\n",
              "      <td>143846</td>\n",
              "      <td>1137</td>\n",
              "      <td>15191</td>\n",
              "      <td>139107</td>\n",
              "      <td>NaN</td>\n",
              "      <td>NaN</td>\n",
              "      <td>NaN</td>\n",
              "      <td>872</td>\n",
              "      <td>11304</td>\n",
              "      <td>96261</td>\n",
              "      <td>44</td>\n",
              "      <td>411</td>\n",
              "      <td>21</td>\n",
              "      <td>184</td>\n",
              "      <td>615</td>\n",
              "      <td>7231</td>\n",
              "      <td>28813</td>\n",
              "      <td>615</td>\n",
              "      <td>7231</td>\n",
              "      <td>...</td>\n",
              "      <td>0.0</td>\n",
              "      <td>0.0</td>\n",
              "      <td>0.0</td>\n",
              "      <td>0.0</td>\n",
              "      <td>0.0</td>\n",
              "      <td>0.0</td>\n",
              "      <td>0.0</td>\n",
              "      <td>0.0</td>\n",
              "      <td>0.0</td>\n",
              "      <td>0.0</td>\n",
              "      <td>0.0</td>\n",
              "      <td>0.0</td>\n",
              "      <td>0.0</td>\n",
              "      <td>0</td>\n",
              "      <td>0.0</td>\n",
              "      <td>0.0</td>\n",
              "      <td>0.0</td>\n",
              "      <td>0.0</td>\n",
              "      <td>0.0</td>\n",
              "      <td>0.0</td>\n",
              "      <td>0.0</td>\n",
              "      <td>0.0</td>\n",
              "      <td>0.0</td>\n",
              "      <td>0.0</td>\n",
              "      <td>0.0</td>\n",
              "      <td>0.0</td>\n",
              "      <td>0.0</td>\n",
              "      <td>0.0</td>\n",
              "      <td>0.0</td>\n",
              "      <td>0.0</td>\n",
              "      <td>0.0</td>\n",
              "      <td>0.0</td>\n",
              "      <td>0.0</td>\n",
              "      <td>0.0</td>\n",
              "      <td>0.0</td>\n",
              "      <td>0.0</td>\n",
              "      <td>0.0</td>\n",
              "      <td>0.0</td>\n",
              "      <td>0.0</td>\n",
              "      <td>0.0</td>\n",
              "    </tr>\n",
              "  </tbody>\n",
              "</table>\n",
              "<p>5 rows × 1226 columns</p>\n",
              "</div>"
            ],
            "text/plain": [
              "        Date  ... Weekly Total web site click count per Page by age and gender - UNKNOWN.U\n",
              "0        NaN  ...                                                NaN                      \n",
              "1   2/7/2021  ...                                                0.0                      \n",
              "2   2/8/2021  ...                                                0.0                      \n",
              "3   2/9/2021  ...                                                0.0                      \n",
              "4  2/10/2021  ...                                                0.0                      \n",
              "\n",
              "[5 rows x 1226 columns]"
            ]
          },
          "metadata": {
            "tags": []
          },
          "execution_count": 151
        }
      ]
    },
    {
      "cell_type": "markdown",
      "metadata": {
        "id": "Vq2WysszmyCF"
      },
      "source": [
        "We select a few columns from the dataframe df1 that contain valuable information and might help us to find insights from the data."
      ]
    },
    {
      "cell_type": "code",
      "metadata": {
        "id": "gpWDXYhYNEU3"
      },
      "source": [
        "df1 = df1[[\"Date\", \"Daily New Likes\", \"Daily Page Engaged Users\", \"Daily Total Reach\", \"Daily Viral Reach\", \"Daily Total Impressions of your posts\", \"Daily Total Consumers\", \"Daily Page Consumptions\"]]"
      ],
      "execution_count": null,
      "outputs": []
    },
    {
      "cell_type": "code",
      "metadata": {
        "colab": {
          "base_uri": "https://localhost:8080/"
        },
        "id": "HvAY3KljcbWA",
        "outputId": "c8d8c27c-8a07-4d28-dc5d-6791fd5ca1a5"
      },
      "source": [
        "df1.shape"
      ],
      "execution_count": null,
      "outputs": [
        {
          "output_type": "execute_result",
          "data": {
            "text/plain": [
              "(29, 8)"
            ]
          },
          "metadata": {
            "tags": []
          },
          "execution_count": 153
        }
      ]
    },
    {
      "cell_type": "code",
      "metadata": {
        "colab": {
          "base_uri": "https://localhost:8080/"
        },
        "id": "kbds0aJxcZT0",
        "outputId": "82287947-5f9a-4626-9dc5-016b2b5ea8b7"
      },
      "source": [
        "df1.info()"
      ],
      "execution_count": null,
      "outputs": [
        {
          "output_type": "stream",
          "text": [
            "<class 'pandas.core.frame.DataFrame'>\n",
            "RangeIndex: 29 entries, 0 to 28\n",
            "Data columns (total 8 columns):\n",
            " #   Column                                 Non-Null Count  Dtype \n",
            "---  ------                                 --------------  ----- \n",
            " 0   Date                                   28 non-null     object\n",
            " 1   Daily New Likes                        27 non-null     object\n",
            " 2   Daily Page Engaged Users               29 non-null     object\n",
            " 3   Daily Total Reach                      29 non-null     object\n",
            " 4   Daily Viral Reach                      29 non-null     object\n",
            " 5   Daily Total Impressions of your posts  29 non-null     object\n",
            " 6   Daily Total Consumers                  29 non-null     object\n",
            " 7   Daily Page Consumptions                29 non-null     object\n",
            "dtypes: object(8)\n",
            "memory usage: 1.9+ KB\n"
          ],
          "name": "stdout"
        }
      ]
    },
    {
      "cell_type": "markdown",
      "metadata": {
        "id": "bcLWlQafnJ_F"
      },
      "source": [
        "The first row of the dataframe df1 does not contain any data. Rather the details of each column is stored in the first row. So, we drop the first row of the dataframe using the drop() method. Then we use the reset_index() method to reset the index."
      ]
    },
    {
      "cell_type": "code",
      "metadata": {
        "colab": {
          "base_uri": "https://localhost:8080/",
          "height": 213
        },
        "id": "l1dTzk-weNK2",
        "outputId": "6c7bbda1-a335-4074-8a79-8418aadfbd81"
      },
      "source": [
        "df1.drop(0, inplace = True)\r\n",
        "df1.reset_index(drop = True, inplace = True)\r\n",
        "df1.head()"
      ],
      "execution_count": null,
      "outputs": [
        {
          "output_type": "execute_result",
          "data": {
            "text/html": [
              "<div>\n",
              "<style scoped>\n",
              "    .dataframe tbody tr th:only-of-type {\n",
              "        vertical-align: middle;\n",
              "    }\n",
              "\n",
              "    .dataframe tbody tr th {\n",
              "        vertical-align: top;\n",
              "    }\n",
              "\n",
              "    .dataframe thead th {\n",
              "        text-align: right;\n",
              "    }\n",
              "</style>\n",
              "<table border=\"1\" class=\"dataframe\">\n",
              "  <thead>\n",
              "    <tr style=\"text-align: right;\">\n",
              "      <th></th>\n",
              "      <th>Date</th>\n",
              "      <th>Daily New Likes</th>\n",
              "      <th>Daily Page Engaged Users</th>\n",
              "      <th>Daily Total Reach</th>\n",
              "      <th>Daily Viral Reach</th>\n",
              "      <th>Daily Total Impressions of your posts</th>\n",
              "      <th>Daily Total Consumers</th>\n",
              "      <th>Daily Page Consumptions</th>\n",
              "    </tr>\n",
              "  </thead>\n",
              "  <tbody>\n",
              "    <tr>\n",
              "      <th>0</th>\n",
              "      <td>2/7/2021</td>\n",
              "      <td>3</td>\n",
              "      <td>29</td>\n",
              "      <td>921</td>\n",
              "      <td>813</td>\n",
              "      <td>1456</td>\n",
              "      <td>24</td>\n",
              "      <td>30</td>\n",
              "    </tr>\n",
              "    <tr>\n",
              "      <th>1</th>\n",
              "      <td>2/8/2021</td>\n",
              "      <td>3</td>\n",
              "      <td>22</td>\n",
              "      <td>556</td>\n",
              "      <td>489</td>\n",
              "      <td>1093</td>\n",
              "      <td>14</td>\n",
              "      <td>16</td>\n",
              "    </tr>\n",
              "    <tr>\n",
              "      <th>2</th>\n",
              "      <td>2/9/2021</td>\n",
              "      <td>1</td>\n",
              "      <td>91</td>\n",
              "      <td>2240</td>\n",
              "      <td>1679</td>\n",
              "      <td>3296</td>\n",
              "      <td>64</td>\n",
              "      <td>83</td>\n",
              "    </tr>\n",
              "    <tr>\n",
              "      <th>3</th>\n",
              "      <td>2/10/2021</td>\n",
              "      <td>3</td>\n",
              "      <td>19</td>\n",
              "      <td>616</td>\n",
              "      <td>547</td>\n",
              "      <td>1137</td>\n",
              "      <td>12</td>\n",
              "      <td>15</td>\n",
              "    </tr>\n",
              "    <tr>\n",
              "      <th>4</th>\n",
              "      <td>2/11/2021</td>\n",
              "      <td>NaN</td>\n",
              "      <td>11</td>\n",
              "      <td>443</td>\n",
              "      <td>407</td>\n",
              "      <td>743</td>\n",
              "      <td>8</td>\n",
              "      <td>10</td>\n",
              "    </tr>\n",
              "  </tbody>\n",
              "</table>\n",
              "</div>"
            ],
            "text/plain": [
              "        Date Daily New Likes  ... Daily Total Consumers Daily Page Consumptions\n",
              "0   2/7/2021               3  ...                    24                      30\n",
              "1   2/8/2021               3  ...                    14                      16\n",
              "2   2/9/2021               1  ...                    64                      83\n",
              "3  2/10/2021               3  ...                    12                      15\n",
              "4  2/11/2021             NaN  ...                     8                      10\n",
              "\n",
              "[5 rows x 8 columns]"
            ]
          },
          "metadata": {
            "tags": []
          },
          "execution_count": 155
        }
      ]
    },
    {
      "cell_type": "markdown",
      "metadata": {
        "id": "1xbketb_nOgn"
      },
      "source": [
        "We handle the missing values of the column 'Date' by droping the rows with the missing 'Date' values. We replace the missing values of the 'Daily New Likes' column with the most frequent value of the column using the method replace().  "
      ]
    },
    {
      "cell_type": "code",
      "metadata": {
        "id": "WRPQ4vJYciyF"
      },
      "source": [
        "df1[\"Date\"].dropna(axis = 0)\r\n",
        "df1[\"Daily New Likes\"].replace(np.nan, df1[\"Daily New Likes\"].value_counts().idxmax(), inplace = True)"
      ],
      "execution_count": null,
      "outputs": []
    },
    {
      "cell_type": "markdown",
      "metadata": {
        "id": "-h6yGzb4oMEM"
      },
      "source": [
        "We convert the data types of the columns using the to_datetime and astype() methods as the columns do not have the correct data type."
      ]
    },
    {
      "cell_type": "code",
      "metadata": {
        "id": "YpLsx5YvkcrJ"
      },
      "source": [
        "df1[\"Date\"] = df1[\"Date\"].apply(pd.to_datetime)\r\n",
        "df1[\"Daily New Likes\"] = df1[\"Daily New Likes\"].astype('int')\r\n",
        "df1[\"Daily Page Engaged Users\"] = df1[\"Daily Page Engaged Users\"].astype('int')\r\n",
        "df1[\"Daily Total Reach\"] = df1[\"Daily Total Reach\"].astype('int')\r\n",
        "df1[\"Daily Viral Reach\"] = df1[\"Daily Viral Reach\"].astype('int')\r\n",
        "df1[\"Daily Total Impressions of your posts\"] = df1[\"Daily Total Impressions of your posts\"].astype('int')\r\n",
        "df1[\"Daily Page Consumptions\"] = df1[\"Daily Page Consumptions\"].astype('int')\r\n",
        "df1[\"Daily Total Consumers\"] = df1[\"Daily Total Consumers\"].astype('int')"
      ],
      "execution_count": null,
      "outputs": []
    },
    {
      "cell_type": "code",
      "metadata": {
        "colab": {
          "base_uri": "https://localhost:8080/"
        },
        "id": "KNZKIwiz8RtL",
        "outputId": "cf10fe85-9937-472a-b40d-65faf0592e01"
      },
      "source": [
        "df1.info()"
      ],
      "execution_count": null,
      "outputs": [
        {
          "output_type": "stream",
          "text": [
            "<class 'pandas.core.frame.DataFrame'>\n",
            "RangeIndex: 28 entries, 0 to 27\n",
            "Data columns (total 8 columns):\n",
            " #   Column                                 Non-Null Count  Dtype         \n",
            "---  ------                                 --------------  -----         \n",
            " 0   Date                                   28 non-null     datetime64[ns]\n",
            " 1   Daily New Likes                        28 non-null     int64         \n",
            " 2   Daily Page Engaged Users               28 non-null     int64         \n",
            " 3   Daily Total Reach                      28 non-null     int64         \n",
            " 4   Daily Viral Reach                      28 non-null     int64         \n",
            " 5   Daily Total Impressions of your posts  28 non-null     int64         \n",
            " 6   Daily Total Consumers                  28 non-null     int64         \n",
            " 7   Daily Page Consumptions                28 non-null     int64         \n",
            "dtypes: datetime64[ns](1), int64(7)\n",
            "memory usage: 1.9 KB\n"
          ],
          "name": "stdout"
        }
      ]
    },
    {
      "cell_type": "markdown",
      "metadata": {
        "id": "BGs-KILcoiVt"
      },
      "source": [
        "Now the data is processed. It has no missing values and the data types are also correct."
      ]
    },
    {
      "cell_type": "markdown",
      "metadata": {
        "id": "yicdggO_okhF"
      },
      "source": [
        "We set the 'Date' column as the index of the dataframe df1 using the set_index() method."
      ]
    },
    {
      "cell_type": "code",
      "metadata": {
        "colab": {
          "base_uri": "https://localhost:8080/",
          "height": 326
        },
        "id": "z_jJqg2Hj5Sc",
        "outputId": "d1c34cf3-c1fc-4256-a40e-ca2bd957f817"
      },
      "source": [
        "df1.set_index(\"Date\", inplace = True)\r\n",
        "df1.head()"
      ],
      "execution_count": null,
      "outputs": [
        {
          "output_type": "execute_result",
          "data": {
            "text/html": [
              "<div>\n",
              "<style scoped>\n",
              "    .dataframe tbody tr th:only-of-type {\n",
              "        vertical-align: middle;\n",
              "    }\n",
              "\n",
              "    .dataframe tbody tr th {\n",
              "        vertical-align: top;\n",
              "    }\n",
              "\n",
              "    .dataframe thead th {\n",
              "        text-align: right;\n",
              "    }\n",
              "</style>\n",
              "<table border=\"1\" class=\"dataframe\">\n",
              "  <thead>\n",
              "    <tr style=\"text-align: right;\">\n",
              "      <th></th>\n",
              "      <th>Daily New Likes</th>\n",
              "      <th>Daily Page Engaged Users</th>\n",
              "      <th>Daily Total Reach</th>\n",
              "      <th>Daily Viral Reach</th>\n",
              "      <th>Daily Total Impressions of your posts</th>\n",
              "      <th>Daily Total Consumers</th>\n",
              "      <th>Daily Page Consumptions</th>\n",
              "    </tr>\n",
              "    <tr>\n",
              "      <th>Date</th>\n",
              "      <th></th>\n",
              "      <th></th>\n",
              "      <th></th>\n",
              "      <th></th>\n",
              "      <th></th>\n",
              "      <th></th>\n",
              "      <th></th>\n",
              "    </tr>\n",
              "  </thead>\n",
              "  <tbody>\n",
              "    <tr>\n",
              "      <th>2021-02-07</th>\n",
              "      <td>3</td>\n",
              "      <td>29</td>\n",
              "      <td>921</td>\n",
              "      <td>813</td>\n",
              "      <td>1456</td>\n",
              "      <td>24</td>\n",
              "      <td>30</td>\n",
              "    </tr>\n",
              "    <tr>\n",
              "      <th>2021-02-08</th>\n",
              "      <td>3</td>\n",
              "      <td>22</td>\n",
              "      <td>556</td>\n",
              "      <td>489</td>\n",
              "      <td>1093</td>\n",
              "      <td>14</td>\n",
              "      <td>16</td>\n",
              "    </tr>\n",
              "    <tr>\n",
              "      <th>2021-02-09</th>\n",
              "      <td>1</td>\n",
              "      <td>91</td>\n",
              "      <td>2240</td>\n",
              "      <td>1679</td>\n",
              "      <td>3296</td>\n",
              "      <td>64</td>\n",
              "      <td>83</td>\n",
              "    </tr>\n",
              "    <tr>\n",
              "      <th>2021-02-10</th>\n",
              "      <td>3</td>\n",
              "      <td>19</td>\n",
              "      <td>616</td>\n",
              "      <td>547</td>\n",
              "      <td>1137</td>\n",
              "      <td>12</td>\n",
              "      <td>15</td>\n",
              "    </tr>\n",
              "    <tr>\n",
              "      <th>2021-02-11</th>\n",
              "      <td>7</td>\n",
              "      <td>11</td>\n",
              "      <td>443</td>\n",
              "      <td>407</td>\n",
              "      <td>743</td>\n",
              "      <td>8</td>\n",
              "      <td>10</td>\n",
              "    </tr>\n",
              "  </tbody>\n",
              "</table>\n",
              "</div>"
            ],
            "text/plain": [
              "            Daily New Likes  ...  Daily Page Consumptions\n",
              "Date                         ...                         \n",
              "2021-02-07                3  ...                       30\n",
              "2021-02-08                3  ...                       16\n",
              "2021-02-09                1  ...                       83\n",
              "2021-02-10                3  ...                       15\n",
              "2021-02-11                7  ...                       10\n",
              "\n",
              "[5 rows x 7 columns]"
            ]
          },
          "metadata": {
            "tags": []
          },
          "execution_count": 159
        }
      ]
    },
    {
      "cell_type": "markdown",
      "metadata": {
        "id": "S05Qsi1spAob"
      },
      "source": [
        "We use the seasonal_decompose library to find trend and seasonaity in the data and plot the trend and seasonality."
      ]
    },
    {
      "cell_type": "code",
      "metadata": {
        "colab": {
          "base_uri": "https://localhost:8080/",
          "height": 441
        },
        "id": "9rQwiUGNh0Yv",
        "outputId": "ab631c35-5075-4f50-d736-2cbc1982c5f4"
      },
      "source": [
        "plt.rcParams['figure.figsize'] = (10, 6)\r\n",
        "\r\n",
        "from statsmodels.tsa.seasonal import seasonal_decompose\r\n",
        "decomposed = seasonal_decompose(df1[\"Daily Total Reach\"], model = 'additive')\r\n",
        "x = decomposed.plot()"
      ],
      "execution_count": null,
      "outputs": [
        {
          "output_type": "display_data",
          "data": {
            "image/png": "[encoded data removed]",
            "text/plain": [
              "<Figure size 720x432 with 4 Axes>"
            ]
          },
          "metadata": {
            "tags": [],
            "needs_background": "light"
          }
        }
      ]
    },
    {
      "cell_type": "markdown",
      "metadata": {
        "id": "_ltiUyIvIHcT"
      },
      "source": [
        "There is some seasonality in 'Daily Total Reach' data."
      ]
    },
    {
      "cell_type": "markdown",
      "metadata": {
        "id": "EQ6Ub6OHo21V"
      },
      "source": [
        "We find the correlation of all the the numeric columns of the dataframe df1 using the corr() method."
      ]
    },
    {
      "cell_type": "code",
      "metadata": {
        "id": "Wu0MrPzRkVw2",
        "colab": {
          "base_uri": "https://localhost:8080/",
          "height": 289
        },
        "outputId": "d7e885a0-20c5-4399-8f65-89916162fdce"
      },
      "source": [
        "df1.corr()"
      ],
      "execution_count": null,
      "outputs": [
        {
          "output_type": "execute_result",
          "data": {
            "text/html": [
              "<div>\n",
              "<style scoped>\n",
              "    .dataframe tbody tr th:only-of-type {\n",
              "        vertical-align: middle;\n",
              "    }\n",
              "\n",
              "    .dataframe tbody tr th {\n",
              "        vertical-align: top;\n",
              "    }\n",
              "\n",
              "    .dataframe thead th {\n",
              "        text-align: right;\n",
              "    }\n",
              "</style>\n",
              "<table border=\"1\" class=\"dataframe\">\n",
              "  <thead>\n",
              "    <tr style=\"text-align: right;\">\n",
              "      <th></th>\n",
              "      <th>Daily New Likes</th>\n",
              "      <th>Daily Page Engaged Users</th>\n",
              "      <th>Daily Total Reach</th>\n",
              "      <th>Daily Viral Reach</th>\n",
              "      <th>Daily Total Impressions of your posts</th>\n",
              "      <th>Daily Total Consumers</th>\n",
              "      <th>Daily Page Consumptions</th>\n",
              "    </tr>\n",
              "  </thead>\n",
              "  <tbody>\n",
              "    <tr>\n",
              "      <th>Daily New Likes</th>\n",
              "      <td>1.000000</td>\n",
              "      <td>0.564765</td>\n",
              "      <td>0.432809</td>\n",
              "      <td>0.453437</td>\n",
              "      <td>0.444464</td>\n",
              "      <td>0.550486</td>\n",
              "      <td>0.545137</td>\n",
              "    </tr>\n",
              "    <tr>\n",
              "      <th>Daily Page Engaged Users</th>\n",
              "      <td>0.564765</td>\n",
              "      <td>1.000000</td>\n",
              "      <td>0.741454</td>\n",
              "      <td>0.776317</td>\n",
              "      <td>0.762088</td>\n",
              "      <td>0.981460</td>\n",
              "      <td>0.978556</td>\n",
              "    </tr>\n",
              "    <tr>\n",
              "      <th>Daily Total Reach</th>\n",
              "      <td>0.432809</td>\n",
              "      <td>0.741454</td>\n",
              "      <td>1.000000</td>\n",
              "      <td>0.796023</td>\n",
              "      <td>0.996999</td>\n",
              "      <td>0.728618</td>\n",
              "      <td>0.697794</td>\n",
              "    </tr>\n",
              "    <tr>\n",
              "      <th>Daily Viral Reach</th>\n",
              "      <td>0.453437</td>\n",
              "      <td>0.776317</td>\n",
              "      <td>0.796023</td>\n",
              "      <td>1.000000</td>\n",
              "      <td>0.813414</td>\n",
              "      <td>0.771593</td>\n",
              "      <td>0.738929</td>\n",
              "    </tr>\n",
              "    <tr>\n",
              "      <th>Daily Total Impressions of your posts</th>\n",
              "      <td>0.444464</td>\n",
              "      <td>0.762088</td>\n",
              "      <td>0.996999</td>\n",
              "      <td>0.813414</td>\n",
              "      <td>1.000000</td>\n",
              "      <td>0.751484</td>\n",
              "      <td>0.722615</td>\n",
              "    </tr>\n",
              "    <tr>\n",
              "      <th>Daily Total Consumers</th>\n",
              "      <td>0.550486</td>\n",
              "      <td>0.981460</td>\n",
              "      <td>0.728618</td>\n",
              "      <td>0.771593</td>\n",
              "      <td>0.751484</td>\n",
              "      <td>1.000000</td>\n",
              "      <td>0.997862</td>\n",
              "    </tr>\n",
              "    <tr>\n",
              "      <th>Daily Page Consumptions</th>\n",
              "      <td>0.545137</td>\n",
              "      <td>0.978556</td>\n",
              "      <td>0.697794</td>\n",
              "      <td>0.738929</td>\n",
              "      <td>0.722615</td>\n",
              "      <td>0.997862</td>\n",
              "      <td>1.000000</td>\n",
              "    </tr>\n",
              "  </tbody>\n",
              "</table>\n",
              "</div>"
            ],
            "text/plain": [
              "                                       Daily New Likes  ...  Daily Page Consumptions\n",
              "Daily New Likes                               1.000000  ...                 0.545137\n",
              "Daily Page Engaged Users                      0.564765  ...                 0.978556\n",
              "Daily Total Reach                             0.432809  ...                 0.697794\n",
              "Daily Viral Reach                             0.453437  ...                 0.738929\n",
              "Daily Total Impressions of your posts         0.444464  ...                 0.722615\n",
              "Daily Total Consumers                         0.550486  ...                 0.997862\n",
              "Daily Page Consumptions                       0.545137  ...                 1.000000\n",
              "\n",
              "[7 rows x 7 columns]"
            ]
          },
          "metadata": {
            "tags": []
          },
          "execution_count": 161
        }
      ]
    },
    {
      "cell_type": "markdown",
      "metadata": {
        "id": "l16hQ7EGprW_"
      },
      "source": [
        "We use the function regplot in the seaborn library to determine if the feature 'Daily Total Reach' is negatively or positively correlated with 'Daily New Likes'."
      ]
    },
    {
      "cell_type": "code",
      "metadata": {
        "id": "8vqRsABS-xKz",
        "colab": {
          "base_uri": "https://localhost:8080/",
          "height": 388
        },
        "outputId": "bfbf8a78-bb12-4295-acf8-6d0e621486b8"
      },
      "source": [
        "plt.figure(figsize = (10,6))\r\n",
        "sns.regplot(x = 'Daily Total Reach', y = 'Daily New Likes', data = df1)\r\n",
        "plt.show()"
      ],
      "execution_count": null,
      "outputs": [
        {
          "output_type": "display_data",
          "data": {
            "image/png": "[encoded data removed]",
            "text/plain": [
              "<Figure size 720x432 with 1 Axes>"
            ]
          },
          "metadata": {
            "tags": [],
            "needs_background": "light"
          }
        }
      ]
    },
    {
      "cell_type": "markdown",
      "metadata": {
        "id": "Of4rja9XIML0"
      },
      "source": [
        "There is some positive correlation between 'Daily Total Reach' and 'Daily New Likes'."
      ]
    },
    {
      "cell_type": "markdown",
      "metadata": {
        "id": "c_MgUai8p0Hm"
      },
      "source": [
        "We use the function regplot in the seaborn library to determine if the feature 'Daily Viral Reach' is negatively or positively correlated with 'Daily Page Consumptions'."
      ]
    },
    {
      "cell_type": "code",
      "metadata": {
        "colab": {
          "base_uri": "https://localhost:8080/",
          "height": 388
        },
        "id": "Jnq2CQGv9Vmt",
        "outputId": "e6c2c7d8-b95f-49f3-9ff5-8c4cf7c0e0ad"
      },
      "source": [
        "plt.figure(figsize = (10,6))\r\n",
        "sns.regplot(x = 'Daily Viral Reach', y = 'Daily Page Consumptions', data = df1)\r\n",
        "plt.show()"
      ],
      "execution_count": null,
      "outputs": [
        {
          "output_type": "display_data",
          "data": {
            "image/png": "[encoded data removed]",
            "text/plain": [
              "<Figure size 720x432 with 1 Axes>"
            ]
          },
          "metadata": {
            "tags": [],
            "needs_background": "light"
          }
        }
      ]
    },
    {
      "cell_type": "markdown",
      "metadata": {
        "id": "2AbjzJMDIQHk"
      },
      "source": [
        "There is some positive correlation between 'Daily Viral Reach' and 'Daily Page Consumptions'."
      ]
    }
  ]
}